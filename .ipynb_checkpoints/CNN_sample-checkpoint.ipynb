{
 "cells": [
  {
   "cell_type": "markdown",
   "id": "a6a6b422",
   "metadata": {},
   "source": [
    "# CNN"
   ]
  },
  {
   "cell_type": "code",
   "execution_count": 11,
   "id": "4522af70",
   "metadata": {},
   "outputs": [],
   "source": [
    "import torch\n",
    "from torch import nn\n",
    "import torchvision\n",
    "from torchvision import transforms\n",
    "from torchvision.transforms import ToTensor\n",
    "import matplotlib.pyplot as plt"
   ]
  },
  {
   "cell_type": "markdown",
   "id": "8596c0e9",
   "metadata": {},
   "source": [
    "# Getting a Dataset"
   ]
  },
  {
   "cell_type": "markdown",
   "id": "849c24a9",
   "metadata": {},
   "source": [
    "We will use FashionMNIST dataset from torch vision datasets.\n",
    "\n",
    "Documentation link: https://pytorch.org/vision/stable/generated/torchvision.datasets.FashionMNIST.html#torchvision.datasets.FashionMNIST"
   ]
  },
  {
   "cell_type": "code",
   "execution_count": 2,
   "id": "90aaf69f",
   "metadata": {},
   "outputs": [],
   "source": [
    "from torchvision import datasets\n",
    "\n",
    "train_data = datasets.FashionMNIST(\n",
    "    root= 'data', # where to download data to \n",
    "    train = True,  # do we want the training data? (dataset already formatted)\n",
    "    download = True,\n",
    "    transform = ToTensor(), # how do we want to transform the data\n",
    "    target_transform = None # dont tranform the labels    \n",
    ")\n",
    "\n",
    "test_data = datasets.FashionMNIST(\n",
    "    root = 'data',\n",
    "    train = False,\n",
    "    download = True,\n",
    "    transform = ToTensor(),\n",
    "    target_transform = None\n",
    ")"
   ]
  },
  {
   "cell_type": "markdown",
   "id": "ec9482f9",
   "metadata": {},
   "source": [
    "***"
   ]
  },
  {
   "cell_type": "markdown",
   "id": "5c0f8d43",
   "metadata": {},
   "source": [
    "### Investigating the dataset\n",
    "Immerse yourself in the data. It is crucial for us to comprehend the structure of our dataset, including its shape and visual appearance.\n",
    "\n",
    "We can practice using small data with the below code snipet, try changing the dimension and size for visual observation:\n",
    "- torch.rand(2,3,2,4)"
   ]
  },
  {
   "cell_type": "markdown",
   "id": "b96b776e",
   "metadata": {},
   "source": [
    "### Check size"
   ]
  },
  {
   "cell_type": "code",
   "execution_count": null,
   "id": "59ab7282",
   "metadata": {},
   "outputs": [],
   "source": [
    "len(train_data), len(test_data)"
   ]
  },
  {
   "cell_type": "markdown",
   "id": "a41544b2",
   "metadata": {},
   "source": [
    "### The key attributes\n",
    "Investigating the most prevalent attributes of our transformed dataset.\n",
    "\n",
    "Note:\n",
    "\n",
    "The built-in datasets from torchvision are already transformed. However, if we intend to use a custom dataset, we may need to utilize the from torchvision import transforms method."
   ]
  },
  {
   "cell_type": "markdown",
   "id": "af239aaa",
   "metadata": {},
   "source": [
    "`Class Index`"
   ]
  },
  {
   "cell_type": "code",
   "execution_count": null,
   "id": "5b7d1b96",
   "metadata": {},
   "outputs": [],
   "source": [
    " train_data.class_to_idx"
   ]
  },
  {
   "cell_type": "markdown",
   "id": "0bda20fc",
   "metadata": {},
   "source": [
    "`Classes`"
   ]
  },
  {
   "cell_type": "code",
   "execution_count": 14,
   "id": "a5321420",
   "metadata": {},
   "outputs": [
    {
     "data": {
      "text/plain": [
       "['T-shirt/top',\n",
       " 'Trouser',\n",
       " 'Pullover',\n",
       " 'Dress',\n",
       " 'Coat',\n",
       " 'Sandal',\n",
       " 'Shirt',\n",
       " 'Sneaker',\n",
       " 'Bag',\n",
       " 'Ankle boot']"
      ]
     },
     "execution_count": 14,
     "metadata": {},
     "output_type": "execute_result"
    }
   ],
   "source": [
    "class_names = train_data.classes\n",
    "class_names"
   ]
  },
  {
   "cell_type": "markdown",
   "id": "ac602301",
   "metadata": {},
   "source": [
    "### What inside our  train_data\n",
    "\n",
    "Extracting the image and label from train_data at the first index."
   ]
  },
  {
   "cell_type": "code",
   "execution_count": null,
   "id": "545024a4",
   "metadata": {},
   "outputs": [],
   "source": [
    "image_idx_0, label_idx_0 = train_data[0] # first index\n",
    "print(image_idx_0.shape) \n",
    "image_idx_0, label_idx_0"
   ]
  },
  {
   "cell_type": "markdown",
   "id": "7b9a072e",
   "metadata": {},
   "source": [
    "`NOTE:`\n",
    "\n",
    "It is crucial to familiarize ourselves with the data format as it plays an important role in feeding the data to our code. For instance, in the nn.Conv2d layer, the input value represents the number of color channels. The accepted formats for the input tensor are:\n",
    "\n",
    "- NCHW (batchsize, channel, height, width)\n",
    "- NHWC (batchsize, height, width, channel)\n",
    "\n",
    "Understanding and correctly specifying the data format is essential for proper data handling and processing within our code."
   ]
  },
  {
   "cell_type": "code",
   "execution_count": null,
   "id": "a0986687",
   "metadata": {},
   "outputs": [],
   "source": [
    "# the shape of the image\n",
    "image_idx_0.shape"
   ]
  },
  {
   "cell_type": "markdown",
   "id": "c208fb53",
   "metadata": {},
   "source": [
    "### Visualize\n",
    "We will utilize matplotlib to visualize the first image. To accomplish this, we need to format our 3d image as a 2-dimensional data since matplotlib only accepts this format. Therefore, we need to squeeze the image to eliminate the extra dimension."
   ]
  },
  {
   "cell_type": "code",
   "execution_count": null,
   "id": "c0350c6f",
   "metadata": {},
   "outputs": [],
   "source": [
    "image_idx_0.squeeze().shape # remove 1 dimension "
   ]
  },
  {
   "cell_type": "markdown",
   "id": "de090cae",
   "metadata": {},
   "source": [
    "`Visualize the first index`"
   ]
  },
  {
   "cell_type": "code",
   "execution_count": null,
   "id": "c62cfcea",
   "metadata": {},
   "outputs": [],
   "source": [
    "class_names[label_idx_0]"
   ]
  },
  {
   "cell_type": "code",
   "execution_count": null,
   "id": "a6bbbdb3",
   "metadata": {},
   "outputs": [],
   "source": [
    "import matplotlib.pyplot as plt\n",
    "\n",
    "plt.imshow(image_idx_0.squeeze(), cmap='gray')\n",
    "plt.title(class_names[label_idx_0])\n",
    "plt.axis(False)"
   ]
  },
  {
   "cell_type": "markdown",
   "id": "c5a38b14",
   "metadata": {},
   "source": [
    "### Plot more images at random"
   ]
  },
  {
   "cell_type": "code",
   "execution_count": null,
   "id": "130f8b66",
   "metadata": {
    "code_folding": []
   },
   "outputs": [],
   "source": [
    "torch.manual_seed(42) # turn on for same results\n",
    "# plotting 16 random images\n",
    "fig = plt.figure(figsize=(9,9))\n",
    "rows ,cols = 4,4\n",
    "\n",
    "for i in range(1, rows*cols+1):\n",
    "    random_idx = torch.randint(0, len(train_data), size=[1]).item()\n",
    "    rand_img, rand_label = train_data[random_idx]\n",
    "    fig.add_subplot(rows, cols, i)\n",
    "    plt.imshow(rand_img.squeeze(), cmap='gray')\n",
    "    plt.title(class_names[rand_label])\n",
    "    plt.axis(False)             "
   ]
  },
  {
   "cell_type": "markdown",
   "id": "94c50c7c",
   "metadata": {},
   "source": [
    "***"
   ]
  },
  {
   "cell_type": "markdown",
   "id": "1c706bf9",
   "metadata": {},
   "source": [
    "# DataLoader\n",
    "DataLoader allows us to conveniently divide our dataset into batches.\n",
    "\n",
    "Documentation link: https://pytorch.org/docs/stable/data.html"
   ]
  },
  {
   "cell_type": "markdown",
   "id": "cdea63f3",
   "metadata": {},
   "source": [
    "`Common DataLoader Parameters:`\n",
    "\n",
    "- `datasets:` dataset from which to load the data\n",
    "- `batch_size:` how many samples per batch to load (for better hardware performance)\n",
    "- `shuffle:` set to True to have the data reshuffled at every epoch (default: False)."
   ]
  },
  {
   "cell_type": "markdown",
   "id": "37a663ca",
   "metadata": {},
   "source": [
    "`Create batches from the train_data and test_data using a DataLoader.`"
   ]
  },
  {
   "cell_type": "code",
   "execution_count": 3,
   "id": "5c7e6ee5",
   "metadata": {},
   "outputs": [
    {
     "name": "stdout",
     "output_type": "stream",
     "text": [
      "<torch.utils.data.dataloader.DataLoader object at 0x000001635277CCA0> <torch.utils.data.dataloader.DataLoader object at 0x000001635277CC40>\n",
      "Lenght of train_dataloader: 1875 batches of:32\n",
      "Lenght of test_dataloader: 313 batches of:32\n"
     ]
    }
   ],
   "source": [
    "from torch.utils.data import DataLoader\n",
    "\n",
    "# Set up the HYPERPARAMETER (batch_size)\n",
    "BATCH_SIZE = 32\n",
    "\n",
    "# Segregate the `train_data` into BATCH_SIZE\n",
    "train_dataloader = DataLoader(\n",
    "    dataset= train_data,\n",
    "    batch_size=BATCH_SIZE,\n",
    "    shuffle=True # remove order\n",
    ")\n",
    "\n",
    "# Segregate the `test_data` into BATCH_SIZE\n",
    "test_dataloader = DataLoader(\n",
    "    dataset= test_data,\n",
    "    batch_size=BATCH_SIZE,\n",
    "    shuffle=False # don't remove test order\n",
    ")\n",
    "\n",
    "print(train_dataloader, test_dataloader)\n",
    "print(f'Lenght of train_dataloader: {len(train_dataloader)} batches of:{BATCH_SIZE}')\n",
    "print(f'Lenght of test_dataloader: {len(test_dataloader)} batches of:{BATCH_SIZE}')"
   ]
  },
  {
   "cell_type": "markdown",
   "id": "15762191",
   "metadata": {},
   "source": [
    "- train_dataloader contains 1875 batches of 32 samples/features per batch\n",
    "- test_dataloader contains 131 batches of 32 labels per batch"
   ]
  },
  {
   "cell_type": "markdown",
   "id": "73017eb8",
   "metadata": {},
   "source": [
    "***"
   ]
  },
  {
   "cell_type": "markdown",
   "id": "15044148",
   "metadata": {},
   "source": [
    "### What inside our train_dataloader \n",
    "Extracting the image and label per batch in train_dataloader."
   ]
  },
  {
   "cell_type": "code",
   "execution_count": null,
   "id": "c64c4631",
   "metadata": {},
   "outputs": [],
   "source": [
    "# Inspect the shape of certain batch\n",
    "train_features_batch, train_labels_batch = next(iter(train_dataloader))\n",
    "train_features_batch.shape,  train_labels_batch.shape"
   ]
  },
  {
   "cell_type": "markdown",
   "id": "7bec6637",
   "metadata": {},
   "source": [
    "`train_features_batch shape interprestation:`\n",
    "- The batch size is 32, which means there are 32 images in this batch.\n",
    "- Each image has 1 color channel. This suggests that the images are grayscale since they have only one channel. If it were a  color image, it would typically have 3 channels (red, green, and blue).\n",
    "- The width of each image is 28 pixels.\n",
    "- The height of each image is also 28 pixels."
   ]
  },
  {
   "cell_type": "markdown",
   "id": "49243c9b",
   "metadata": {},
   "source": [
    "`Explanation of the code:`\n",
    "\n",
    "- `iter()` function: It creates an iterator object that allows iterating over the batches of data in the data loader.\n",
    "\n",
    "- `next()` function: It retrieves the next item from the iterator. In this context, it retrieves the next batch of data from the data loader.\n",
    "\n",
    "By using `next(iter(data_loader))`, we can obtain a batch of images and their corresponding labels. The code retrieves the next batch of data, which includes a batch of images and their associated labels. This allows us to access and work with a specific batch of data for further processing or analysis."
   ]
  },
  {
   "cell_type": "code",
   "execution_count": null,
   "id": "06b25047",
   "metadata": {},
   "outputs": [],
   "source": [
    "# verify\n",
    "# shape/size of this batch\n",
    "print(train_features_batch.shape)\n",
    "# shape/size of each image in this batch\n",
    "print(train_features_batch[31].shape)"
   ]
  },
  {
   "cell_type": "markdown",
   "id": "3b153473",
   "metadata": {},
   "source": [
    "### Visualize random sample from a batch"
   ]
  },
  {
   "cell_type": "code",
   "execution_count": null,
   "id": "fcff84ea",
   "metadata": {
    "code_folding": [
     0
    ]
   },
   "outputs": [],
   "source": [
    "# torch.manual_seed(42)\n",
    "# # retreive one random sample \n",
    "# random_idx = torch.randint(0, len(train_features_batch), size=[1]).item()\n",
    "\n",
    "# img, label = train_features_batch[random_idx], train_labels_batch[random_idx]\n",
    "# plt.imshow(img.squeeze(), cmap='gray')\n",
    "# plt.title(class_names[label])\n",
    "# plt.axis(False)\n",
    "# print(f'Image size: {img.shape}')\n",
    "# print(f'Label: {label}')"
   ]
  },
  {
   "cell_type": "markdown",
   "id": "56afb5c9",
   "metadata": {},
   "source": [
    "### Flatten()\n",
    "Before we proceed building a model we need to understand that we neeed to reshape our train and test data batches into a flatten shape.\n",
    "\n",
    "nn.Flatten() link: https://pytorch.org/docs/stable/generated/torch.nn.Flatten.html"
   ]
  },
  {
   "cell_type": "markdown",
   "id": "2c582e1c",
   "metadata": {},
   "source": [
    "`Example Demonstration`"
   ]
  },
  {
   "cell_type": "code",
   "execution_count": null,
   "id": "9f83d496",
   "metadata": {},
   "outputs": [],
   "source": [
    "from torch import nn\n",
    "flatten_model = nn.Flatten()\n",
    "\n",
    "train_features_batch_flat =train_features_batch[0]\n",
    "print(f'shape before flatten: {train_features_batch_flat.shape}')\n",
    "output = flatten_model(train_features_batch_flat) # NHW format -> N H*W\n",
    "print(f'shape after flatten: {output.shape} --> This is the shape we must feed in the last layer of our model' )"
   ]
  },
  {
   "cell_type": "markdown",
   "id": "d1181b9a",
   "metadata": {},
   "source": [
    "---"
   ]
  },
  {
   "cell_type": "markdown",
   "id": "57375225",
   "metadata": {},
   "source": [
    "# Build a baseline model\n",
    "## `model_0`"
   ]
  },
  {
   "cell_type": "code",
   "execution_count": null,
   "id": "84c44ae9",
   "metadata": {},
   "outputs": [],
   "source": [
    "class FashionMNIST_modelV0(nn.Module):\n",
    "    def __init__(self,\n",
    "                 input_shape: int,\n",
    "                 hidden_units: int,\n",
    "                 output_shape: int):\n",
    "        \n",
    "        super().__init__()\n",
    "        self.layer_stack = nn.Sequential(\n",
    "            nn.Flatten(), # flatten our data into a single vector\n",
    "            nn.Linear(in_features=input_shape, out_features=hidden_units),\n",
    "            nn.Linear(in_features=hidden_units, out_features=output_shape)\n",
    "        )\n",
    "        \n",
    "    # Forward pass\n",
    "    def forward(self, x):\n",
    "        return self.layer_stack(x)"
   ]
  },
  {
   "cell_type": "markdown",
   "id": "f4bab043",
   "metadata": {},
   "source": [
    "`Create a model instance/object`"
   ]
  },
  {
   "cell_type": "code",
   "execution_count": null,
   "id": "107796f9",
   "metadata": {},
   "outputs": [],
   "source": [
    "torch.manual_seed(42)\n",
    "\n",
    "#setup model with input paramaters\n",
    "model_0 = FashionMNIST_modelV0(input_shape=28*28,\n",
    "                               hidden_units=10,\n",
    "                               output_shape=len(train_data.classes)\n",
    "                              )\n",
    "model_0"
   ]
  },
  {
   "cell_type": "markdown",
   "id": "5b068a33",
   "metadata": {},
   "source": [
    "### Initial Check\n",
    "This is to verify that our model_0 are working properly.\n",
    "\n",
    "- Create a dummy variable shape in NCHW format(using torch random).\n",
    "- Pass the dummy in our model\n",
    "- Our model will perform the flatten and necesary computation\n",
    "- Our model will result a 10 class showing each classes probability (logits form)\n",
    "- The one with the highest probability is the predicted class of the dummy variable"
   ]
  },
  {
   "cell_type": "code",
   "execution_count": null,
   "id": "015e2406",
   "metadata": {},
   "outputs": [],
   "source": [
    "dummy_x = torch.rand([1,1,28,28])\n",
    "model_0(dummy_x)"
   ]
  },
  {
   "cell_type": "markdown",
   "id": "5e0c8b3c",
   "metadata": {},
   "source": [
    "### Loss Fucntion and Optimizer"
   ]
  },
  {
   "cell_type": "code",
   "execution_count": null,
   "id": "15559f8e",
   "metadata": {},
   "outputs": [],
   "source": [
    "loss_fn = nn.CrossEntropyLoss()\n",
    "optimizer = torch.optim.SGD(params=model_0.parameters(),\n",
    "                           lr=0.1)"
   ]
  },
  {
   "cell_type": "markdown",
   "id": "c785a5ea",
   "metadata": {},
   "source": [
    "### Accuracy Function\n",
    "\n",
    "We will use our helper function to import accuracy function.Alternatively we can use torch.metrics for accuracy.\n",
    "\n",
    "\n",
    "link: https://torchmetrics.readthedocs.io/en/stable/classification/accuracy.html"
   ]
  },
  {
   "cell_type": "code",
   "execution_count": 4,
   "id": "c7004ef2",
   "metadata": {},
   "outputs": [],
   "source": [
    "from helper_functions import accuracy_fn"
   ]
  },
  {
   "cell_type": "markdown",
   "id": "e6cf81d1",
   "metadata": {},
   "source": [
    "### Timer (optional)\n",
    "Show how fast our model in training phase."
   ]
  },
  {
   "cell_type": "code",
   "execution_count": 5,
   "id": "a51e6b14",
   "metadata": {},
   "outputs": [],
   "source": [
    "from timeit import default_timer as timer\n",
    "\n",
    "def print_train_time(start: float,\n",
    "                      end: float,\n",
    "                      device: torch.device=None):\n",
    "    \n",
    "    '''Prints difference between start and end time.'''\n",
    "    total_time = end - start\n",
    "    print(f'Train time on {device}: {total_time:.3f} seconds')\n",
    "    return total_time"
   ]
  },
  {
   "cell_type": "markdown",
   "id": "fc9ef716",
   "metadata": {},
   "source": [
    "### TQDM (optional)\n",
    "For progess bar. "
   ]
  },
  {
   "cell_type": "code",
   "execution_count": 6,
   "id": "d1af61e4",
   "metadata": {},
   "outputs": [],
   "source": [
    "# for progress bar (optional)\n",
    "from tqdm.auto import tqdm"
   ]
  },
  {
   "cell_type": "markdown",
   "id": "f2b9ec4a",
   "metadata": {},
   "source": [
    "***"
   ]
  },
  {
   "cell_type": "markdown",
   "id": "ac757e88",
   "metadata": {},
   "source": [
    "## Training loop (PER BATCHES)\n",
    "Brace yourself, this is a humongous code!! Take a breather... inhale... exhale... inhale... exhale..."
   ]
  },
  {
   "attachments": {
    "dog.jpg": {
     "image/jpeg": "[encoded data removed]"
    }
   },
   "cell_type": "markdown",
   "id": "eb09f92f",
   "metadata": {},
   "source": [
    "![dog.jpg](attachment:dog.jpg)"
   ]
  },
  {
   "cell_type": "markdown",
   "id": "7310a187",
   "metadata": {},
   "source": [
    "- This will train the model in batches \n",
    "- Optimzer will update the models parameter(weight&bias) once per batch instead of per epoch."
   ]
  },
  {
   "cell_type": "markdown",
   "id": "95ddbee8",
   "metadata": {},
   "source": [
    "1. Loop through epochs\n",
    "2. Loop through training batches, perform training steps, calculate the train loss \"per batch\".\n",
    "3. Loop through testing batches, perform test steps, calculate the ttest loss \"per batch\".\n",
    "4. Prints out what's happening\n",
    "5. Time it all (optional)"
   ]
  },
  {
   "cell_type": "code",
   "execution_count": null,
   "id": "512a9586",
   "metadata": {
    "code_folding": [
     0
    ]
   },
   "outputs": [],
   "source": [
    "# model_0\n",
    "torch.manual_seed(42)\n",
    "time_start = timer()\n",
    "\n",
    "epochs = 3\n",
    "\n",
    "for epoch in tqdm(range(epochs)):\n",
    "    print(f'Epoch: {epoch}\\n------loading-----')\n",
    "    \n",
    "    ### TRAINING ##########################################################\n",
    "    # variable for accumulative train loss and accuaracy\n",
    "    train_loss, train_acc = 0, 0\n",
    "    \n",
    "    # add a loop through training batches (nested loop)\n",
    "    for batch, (X,y) in enumerate(train_dataloader):\n",
    "        # turn into training mode here\n",
    "        model_0.train()\n",
    "        \n",
    "        # forward pass\n",
    "        y_pred = (model_0(X))\n",
    "        \n",
    "        # calculate the loss (per batch)\n",
    "        loss = loss_fn(y_pred, y)\n",
    "        train_loss += loss # accumulate the loss in train_loss above\n",
    "        \n",
    "        # calculate the accuracy (per batch)\n",
    "        acc = accuracy_fn(y, y_pred.argmax(dim=1))\n",
    "        train_acc += acc\n",
    "        \n",
    "        # optimizer zero grad\n",
    "        optimizer.zero_grad()\n",
    "        \n",
    "        # loss backward\n",
    "        loss.backward()\n",
    "        \n",
    "        # optimizer step\n",
    "        optimizer.step()\n",
    "        \n",
    "        # print out what's happening\n",
    "        if batch % 400 == 0:\n",
    "            print(f'Looked at batch:{batch} at {batch * len(X)}/{len(train_dataloader.dataset)} samples')\n",
    "        \n",
    "        \n",
    "    #  Updated train_loss and acc then divide by the total number of batches\n",
    "    train_loss /= len(train_dataloader)\n",
    "    train_acc /= len(train_dataloader)\n",
    "    \n",
    "    ### TESTING ##########################################################\n",
    "    test_loss, test_acc = 0,0\n",
    "    model_0.eval()\n",
    "    with torch.inference_mode():\n",
    "        for X_test, y_test in test_dataloader:\n",
    "            \n",
    "            # forward pass\n",
    "            test_pred = model_0(X_test)\n",
    "            \n",
    "            # update the test_loss (accumulatively)\n",
    "            test_loss += loss_fn(test_pred, y_test)\n",
    "#             test_loss += test_loss\n",
    "            \n",
    "            # update the test_acc (accumulatively)\n",
    "            test_acc += accuracy_fn(y_test, \n",
    "                                    test_pred.argmax(dim=1)) # test_pred is in raw output(logits), \n",
    "                                                             # we need to find the highest probability using argmax\n",
    "#             tess_acc += tess_acc\n",
    "            \n",
    "            \n",
    "        # Exit the nested for loops and update the test_loss\n",
    "        test_loss /= len(test_dataloader)\n",
    "        \n",
    "        # Exit the nested for loops and update the tesl_acc\n",
    "        test_acc /= len(test_dataloader)\n",
    "    \n",
    "    # print out what's happening\n",
    "    print(f'\\nTrain loss: {train_loss:.4f} |Train acc: {train_acc:.4f}  | Tess loss: {test_loss:.4f}, Test acc: {test_acc:.4f}')\n",
    "    \n",
    "# calculate training time\n",
    "time_end = timer()        \n",
    "total_train_time_model_0 = print_train_time(start= time_start,\n",
    "                                            end= time_end,\n",
    "                                            device= str(next(model_0.parameters()).device))"
   ]
  },
  {
   "cell_type": "markdown",
   "id": "0e1884ea",
   "metadata": {},
   "source": [
    "## Make predictions and get Model_0 results"
   ]
  },
  {
   "cell_type": "markdown",
   "id": "d522c2c7",
   "metadata": {},
   "source": [
    "Creating a function that accept four parameters(the model, the test data, loss fucntion, and metric) and  will evaluate our test_dataloader. "
   ]
  },
  {
   "cell_type": "code",
   "execution_count": 7,
   "id": "90cd0a5c",
   "metadata": {
    "code_folding": [
     0
    ]
   },
   "outputs": [],
   "source": [
    "def eval_model(model:torch.nn.Module,\n",
    "              test_dataloader:torch.utils.data.DataLoader,\n",
    "              loss_function:torch.nn.Module,\n",
    "              metric):\n",
    "    \n",
    "    '''Returns Dictionanry containingthe results of model predicting on dataloader'''\n",
    "\n",
    "    model.eval()\n",
    "    test_loss, test_acc = 0,0\n",
    "    with torch.inference_mode():\n",
    "        for X_test, y_test in test_dataloader:\n",
    "            \n",
    "            # forward pass\n",
    "            test_pred = model(X_test)\n",
    "            \n",
    "            # update the test_loss (accumulatively)\n",
    "            test_loss += loss_function(test_pred, y_test)\n",
    "            \n",
    "            # update the test_acc (accumulatively)\n",
    "            test_acc += metric(y_test, \n",
    "                                    test_pred.argmax(dim=1)) # test_pred is in raw output(logits), \n",
    "                                                             # we need to find the highest probability using argm\n",
    "        # scale the loss andacc to find the average loss and acc per batch    \n",
    "        test_loss /= len(test_dataloader)\n",
    "        test_acc /= len(test_dataloader)\n",
    "    \n",
    "    return {'model_names': model.__class__.__name__,\n",
    "            'model_loss': test_loss.item(),\n",
    "            'model_acc': test_acc}"
   ]
  },
  {
   "cell_type": "code",
   "execution_count": null,
   "id": "1f63c886",
   "metadata": {},
   "outputs": [],
   "source": [
    "model_0_results = eval_model(model_0,\n",
    "                            test_dataloader,\n",
    "                            loss_fn,\n",
    "                            accuracy_fn,\n",
    "                            )\n",
    "model_0_results"
   ]
  },
  {
   "cell_type": "markdown",
   "id": "c5456e68",
   "metadata": {},
   "source": [
    "# Improving our model \n",
    "## `Model_1`\n",
    "- Adding ReLU activation function"
   ]
  },
  {
   "cell_type": "code",
   "execution_count": null,
   "id": "dd617d88",
   "metadata": {
    "code_folding": []
   },
   "outputs": [],
   "source": [
    "class FashionMNIST_modelV1(nn.Module):\n",
    "    def __init__(self,\n",
    "                 input_shape: int,\n",
    "                 hidden_units: int,\n",
    "                 output_shape: int):\n",
    "        \n",
    "        super().__init__()\n",
    "        self.layer_stack = nn.Sequential(\n",
    "            nn.Flatten(), # flatten our data into a single vector\n",
    "            nn.Linear(in_features=input_shape, out_features=hidden_units),\n",
    "            nn.ReLU(),\n",
    "            nn.Linear(in_features=hidden_units, out_features=output_shape),\n",
    "            nn.ReLU(),\n",
    "        )\n",
    "        \n",
    "    # Forward pass\n",
    "    def forward(self, x):\n",
    "        return self.layer_stack(x)"
   ]
  },
  {
   "cell_type": "markdown",
   "id": "92058cec",
   "metadata": {},
   "source": [
    "`Model_1 instance`"
   ]
  },
  {
   "cell_type": "code",
   "execution_count": null,
   "id": "7d4f0143",
   "metadata": {
    "code_folding": []
   },
   "outputs": [],
   "source": [
    "torch.manual_seed(42)\n",
    "\n",
    "#setup model with input paramaters\n",
    "model_1 = FashionMNIST_modelV1(input_shape=28*28,\n",
    "                               hidden_units=10,\n",
    "                               output_shape=len(train_data.classes)\n",
    "                              )\n",
    "model_1"
   ]
  },
  {
   "cell_type": "markdown",
   "id": "b31f79bc",
   "metadata": {},
   "source": [
    "Change the optimizer model_0 to model_1"
   ]
  },
  {
   "cell_type": "code",
   "execution_count": null,
   "id": "21b7d22a",
   "metadata": {},
   "outputs": [],
   "source": [
    "# Hyperparameters\n",
    "loss_fn = nn.CrossEntropyLoss()\n",
    "optimizer = torch.optim.SGD(params=model_1.parameters(),\n",
    "                           lr=0.1)"
   ]
  },
  {
   "cell_type": "markdown",
   "id": "369974f0",
   "metadata": {},
   "source": [
    "## Training loop\n",
    "This time, we will functionizing our training code into separate functions for training and testing. This approach helps in avoiding errors and reduces the overhead of writing a large amount of repetitive code."
   ]
  },
  {
   "cell_type": "markdown",
   "id": "bb2f8697",
   "metadata": {},
   "source": [
    "`Function for training loops`"
   ]
  },
  {
   "cell_type": "code",
   "execution_count": 8,
   "id": "8fa06e0e",
   "metadata": {
    "code_folding": [
     0,
     14
    ]
   },
   "outputs": [],
   "source": [
    "def train_step(model:torch.nn.Module,\n",
    "               train_dataloader:torch.utils.data.DataLoader,\n",
    "               loss_function:torch.nn.Module,\n",
    "               metric,\n",
    "               optimizer):             \n",
    "    \n",
    "    '''Perform training model'''\n",
    "    \n",
    "    ### TRAINING ##########################################################\n",
    "    model.train()\n",
    "    # variable for accumulative train loss and accuaracy\n",
    "    train_loss, train_acc = 0, 0\n",
    "    \n",
    "    # add a loop through training batches (nested loop)\n",
    "    for batch, (X,y) in enumerate(train_dataloader):\n",
    "        # turn into training mode here\n",
    "        \n",
    "        # forward pass\n",
    "        y_pred = (model(X))\n",
    "        \n",
    "        # calculate the loss (per batch)\n",
    "        loss = loss_function(y_pred, y)\n",
    "        train_loss += loss # accumulate the loss in train_loss above\n",
    "        \n",
    "        # calculate the accuracy (per batch)\n",
    "        acc = accuracy_fn(y, y_pred.argmax(dim=1))\n",
    "        train_acc += acc\n",
    "        \n",
    "        # optimizer zero grad\n",
    "        optimizer.zero_grad()\n",
    "        \n",
    "        # loss backward\n",
    "        loss.backward()\n",
    "        \n",
    "        # optimizer step\n",
    "        optimizer.step()\n",
    "        \n",
    "        \n",
    "    #  Updated train_loss and acc then divide by the total number of batches\n",
    "    train_loss /= len(train_dataloader)\n",
    "    train_acc /= len(train_dataloader)\n",
    "    \n",
    "    print(f'\\nTrain loss: {train_loss:.4f} |Train acc: {train_acc:.4f}')"
   ]
  },
  {
   "cell_type": "markdown",
   "id": "afdd497a",
   "metadata": {},
   "source": [
    "`Fuction for Testing loops`"
   ]
  },
  {
   "cell_type": "code",
   "execution_count": 9,
   "id": "97c0f55c",
   "metadata": {
    "code_folding": [
     0
    ]
   },
   "outputs": [],
   "source": [
    "def test_step(model:torch.nn.Module,\n",
    "               test_dataloader:torch.utils.data.DataLoader,\n",
    "               loss_function:torch.nn.Module,\n",
    "               metric,\n",
    "               optimizer):  \n",
    "    \n",
    "    '''Perform testing steps'''\n",
    "    ### TESTING ##########################################################\n",
    "    model.eval()\n",
    "    test_loss, test_acc = 0,0\n",
    "   \n",
    "    with torch.inference_mode():\n",
    "        for X_test, y_test in test_dataloader:\n",
    "            \n",
    "            # forward pass\n",
    "            test_pred = model(X_test)\n",
    "            \n",
    "            # update the test_loss (accumulatively)\n",
    "            test_loss += loss_fn(test_pred, y_test)\n",
    "            \n",
    "            # update the test_acc (accumulatively)\n",
    "            test_acc += accuracy_fn(y_test, \n",
    "                                    test_pred.argmax(dim=1)) # test_pred is in raw output(logits), \n",
    "                                                             # we need to find the highest probability using argmax\n",
    "           \n",
    "        # Exit the nested for loops and update the test_loss\n",
    "        test_loss /= len(test_dataloader)\n",
    "        \n",
    "        # Exit the nested for loops and update the tesl_acc\n",
    "        test_acc /= len(test_dataloader)\n",
    "        \n",
    "\n",
    "    \n",
    "    # print out what's happening\n",
    "    print(f'Test loss: {test_loss:.4f} |Test acc: {test_acc:.4f}\\n')   "
   ]
  },
  {
   "cell_type": "code",
   "execution_count": null,
   "id": "a7cfe1aa",
   "metadata": {
    "code_folding": []
   },
   "outputs": [],
   "source": [
    "# TRAINING ####\n",
    "torch.manual_seed(42)\n",
    "time_start = timer()\n",
    "\n",
    "epochs = 3\n",
    "\n",
    "for epoch in tqdm(range(epochs)):\n",
    "    print(f'Epoch: {epoch}\\n------loading-----')\n",
    "    \n",
    "    train_step(model_1, train_dataloader, loss_fn, accuracy_fn, optimizer)\n",
    "    test_step(model_1, test_dataloader, loss_fn, accuracy_fn, optimizer)\n",
    "    \n",
    "time_end = timer() \n",
    "total_train_time_model_1 = print_train_time(start= time_start,\n",
    "                                            end= time_end,\n",
    "                                            device= str(next(model_1.parameters()).device))"
   ]
  },
  {
   "cell_type": "markdown",
   "id": "9514c668",
   "metadata": {},
   "source": [
    "### Evaluation"
   ]
  },
  {
   "cell_type": "code",
   "execution_count": null,
   "id": "5ea5af35",
   "metadata": {},
   "outputs": [],
   "source": [
    "model_1_results = eval_model(model_1,\n",
    "                            test_dataloader,\n",
    "                            loss_fn,\n",
    "                            accuracy_fn)\n",
    "model_1_results"
   ]
  },
  {
   "cell_type": "markdown",
   "id": "e94c4b9e",
   "metadata": {},
   "source": [
    "# Building a Convolutionary Neural Network (CNN)\n",
    "\n",
    "## `model_2`\n",
    "The CNN model we're going to be using is known as TinyVGG from the CNN Explainer website.\n",
    "It follows the typical structure of a convolutional neural network:\n",
    "\n",
    "\n",
    "Input layer -> [Convolutional layer -> activation layer -> pooling layer] -> Output layer (this can be called as convolutional block)\n",
    "\n",
    "Where the contents of [Convolutional layer -> activation layer -> pooling layer] can be upscaled and repeated multiple times, depending on requirements."
   ]
  },
  {
   "cell_type": "markdown",
   "id": "1c5bb213",
   "metadata": {},
   "source": [
    "Link reference:\n",
    "\n",
    "\n",
    "1. nn.Conv2d:https://pytorch.org/docs/stable/generated/torch.nn.Conv2d.html\n",
    "2. nn.MaxPool2d: https://pytorch.org/docs/stable/generated/torch.nn.MaxPool2d.html\n",
    "3. For TinyVGG architecture reference: https://poloclub.github.io/cnn-explainer/"
   ]
  },
  {
   "cell_type": "code",
   "execution_count": 12,
   "id": "cd1a3ad3",
   "metadata": {
    "code_folding": [
     9,
     18,
     27,
     33
    ]
   },
   "outputs": [],
   "source": [
    "class FashionMNIST_modelV2(nn.Module):\n",
    "    \"\"\"\n",
    "    Model architecture copying TinyVGG from: \n",
    "    https://poloclub.github.io/cnn-explainer/\n",
    "    \"\"\"\n",
    "\n",
    "    def __init__(self, input_shape: int, hidden_units: int, output_shape: int):\n",
    "        super().__init__()\n",
    "        # Convolutional blocks 1\n",
    "        self.block_1 = nn.Sequential(\n",
    "            nn.Conv2d(in_channels=input_shape, out_channels=hidden_units, kernel_size=3, stride=1, padding=1),\n",
    "            nn.ReLU(),\n",
    "            nn.Conv2d(in_channels=hidden_units, out_channels=hidden_units, kernel_size=3, stride=1, padding=1),\n",
    "            nn.ReLU(),\n",
    "            nn.MaxPool2d(kernel_size=2) # compresses our images i.e 60x60 image pass through maxpol kernel:2 = 30x30 shape, for kernel of 4 = 15x15 shape\n",
    "        )\n",
    "\n",
    "        # Convolutional blocks 2\n",
    "        self.block_2 = nn.Sequential(\n",
    "            nn.Conv2d(in_channels=hidden_units, out_channels=hidden_units, kernel_size=3, stride=1, padding=1),\n",
    "            nn.ReLU(),\n",
    "            nn.Conv2d(in_channels=hidden_units, out_channels=hidden_units, kernel_size=3, stride=1, padding=1),\n",
    "            nn.ReLU(),\n",
    "            nn.MaxPool2d(kernel_size=2)\n",
    "        )\n",
    "\n",
    "        # Classifier\n",
    "        self.classifier = nn.Sequential(\n",
    "            nn.Flatten(),\n",
    "            nn.Linear(in_features=hidden_units*7*7, # each layer of our network compresses and changes the shape of our inputs data\n",
    "                      out_features=output_shape)\n",
    "        )\n",
    "\n",
    "    def forward(self, x):\n",
    "        x = self.block_1(x)\n",
    "#         print(f'shape after convolutional block 1: {x.shape}')\n",
    "        x = self.block_2(x)\n",
    "#         print(f'shape after convolutional block 2: {x.shape}')\n",
    "        x = self.classifier(x)\n",
    "#         print(f'shape after classifier: {x.shape}')\n",
    "        return x\n"
   ]
  },
  {
   "cell_type": "markdown",
   "id": "9fa0fc5f",
   "metadata": {},
   "source": [
    "`Model_2 instance`"
   ]
  },
  {
   "cell_type": "code",
   "execution_count": 15,
   "id": "24e25297",
   "metadata": {},
   "outputs": [],
   "source": [
    "model_2 = FashionMNIST_modelV2(input_shape=1, # number of color channel\n",
    "                               hidden_units=10, # same a tinyvgg model (the hidden units will become our new color chanel)\n",
    "                                                # size after passingit through convolutional layer \n",
    "                               output_shape=len(class_names)\n",
    "                              )"
   ]
  },
  {
   "cell_type": "markdown",
   "id": "e9ffe0a3",
   "metadata": {},
   "source": [
    "## Initial model test\n",
    "\n",
    "Our model_2 only accept data format is in NCHW. we will unsqueeze our image_idx_0 sample to add dimension\n",
    "\n",
    "link torch.unsqueeze(): https://pytorch.org/docs/stable/generated/torch.unsqueeze.html"
   ]
  },
  {
   "cell_type": "code",
   "execution_count": null,
   "id": "95a55d98",
   "metadata": {},
   "outputs": [],
   "source": [
    "image_idx_0.unsqueeze(dim=0).shape"
   ]
  },
  {
   "cell_type": "code",
   "execution_count": null,
   "id": "ecd3dae8",
   "metadata": {},
   "outputs": [],
   "source": [
    "# feeding the unsqueeze image_idx_0 sample\n",
    "model_2(image_idx_0.unsqueeze(dim=0))"
   ]
  },
  {
   "cell_type": "markdown",
   "id": "f121f1a5",
   "metadata": {},
   "source": [
    "## Train model"
   ]
  },
  {
   "cell_type": "code",
   "execution_count": 16,
   "id": "d8ab3943",
   "metadata": {},
   "outputs": [],
   "source": [
    "loss_fn = nn.CrossEntropyLoss()\n",
    "optimizer = torch.optim.SGD(params=model_2.parameters(),\n",
    "                           lr=0.1)"
   ]
  },
  {
   "cell_type": "code",
   "execution_count": 17,
   "id": "b038d2cc",
   "metadata": {},
   "outputs": [
    {
     "data": {
      "application/vnd.jupyter.widget-view+json": {
       "model_id": "33d540f4ebfd4aebb5eaead887be6424",
       "version_major": 2,
       "version_minor": 0
      },
      "text/plain": [
       "  0%|          | 0/3 [00:00<?, ?it/s]"
      ]
     },
     "metadata": {},
     "output_type": "display_data"
    },
    {
     "name": "stdout",
     "output_type": "stream",
     "text": [
      "Epoch: 0\n",
      "------loading-----\n",
      "\n",
      "Train loss: 0.5894 |Train acc: 78.4750\n",
      "Test loss: 0.3764 |Test acc: 87.1106\n",
      "\n",
      "Epoch: 1\n",
      "------loading-----\n",
      "\n",
      "Train loss: 0.3437 |Train acc: 87.6600\n",
      "Test loss: 0.3270 |Test acc: 88.4485\n",
      "\n",
      "Epoch: 2\n",
      "------loading-----\n",
      "\n",
      "Train loss: 0.3079 |Train acc: 88.8700\n",
      "Test loss: 0.3122 |Test acc: 88.7580\n",
      "\n",
      "Train time on cpu: 120.471 seconds\n"
     ]
    }
   ],
   "source": [
    "##### TRAINING ######\n",
    "torch.manual_seed(42)\n",
    "time_start = timer()\n",
    "\n",
    "epochs = 3\n",
    "\n",
    "for epoch in tqdm(range(epochs)):\n",
    "    print(f'Epoch: {epoch}\\n------loading-----')\n",
    "    \n",
    "    train_step(model_2, train_dataloader, loss_fn, accuracy_fn, optimizer)\n",
    "    test_step(model_2, test_dataloader, loss_fn, accuracy_fn, optimizer)\n",
    "    \n",
    "time_end = timer() \n",
    "total_train_time_model_2 = print_train_time(start= time_start,\n",
    "                                            end= time_end,\n",
    "                                            device= str(next(model_2.parameters()).device))"
   ]
  },
  {
   "cell_type": "code",
   "execution_count": 18,
   "id": "b72218e0",
   "metadata": {},
   "outputs": [
    {
     "data": {
      "text/plain": [
       "{'model_names': 'FashionMNIST_modelV2',\n",
       " 'model_loss': 0.31218743324279785,\n",
       " 'model_acc': 88.75798722044729}"
      ]
     },
     "execution_count": 18,
     "metadata": {},
     "output_type": "execute_result"
    }
   ],
   "source": [
    "model_2_result = eval_model(model_2, test_dataloader, loss_fn, accuracy_fn)\n",
    "model_2_result"
   ]
  },
  {
   "cell_type": "markdown",
   "id": "808769c3",
   "metadata": {},
   "source": [
    "### Compare results"
   ]
  },
  {
   "cell_type": "code",
   "execution_count": null,
   "id": "888e5eda",
   "metadata": {},
   "outputs": [],
   "source": [
    "import pandas as pd\n",
    "data = (model_0_results,\n",
    "       model_1_results,\n",
    "       model_2_result)\n",
    "\n",
    "df = pd.DataFrame(data)\n",
    "df['training_time'] = [total_train_time_model_0, total_train_time_model_1, total_train_time_model_2]\n",
    "df"
   ]
  },
  {
   "cell_type": "markdown",
   "id": "04a84b1d",
   "metadata": {},
   "source": [
    "# Make and evaluate random samples with the best model\n",
    "\n",
    "1. torch.softmax(): https://pytorch.org/docs/stable/generated/torch.nn.Softmax.html\n",
    "2. torch.stack: https://pytorch.org/docs/stable/generated/torch.stack.html\n",
    "3. random.sample(): example random.sample(population, k)\n",
    "   - population is the sequence or set from which the sample will be drawn. It can be a list, tuple, string, or any other iterable object.\n",
    "   - k is the number of unique elements to be selected in the sample."
   ]
  },
  {
   "cell_type": "code",
   "execution_count": 69,
   "id": "74ab439b",
   "metadata": {
    "code_folding": []
   },
   "outputs": [],
   "source": [
    "def make_prediction(model: torch.nn.Module,\n",
    "                    test_data:list,):\n",
    "    \n",
    "    '''\n",
    "    Make a prediction for a random sample in test_data\n",
    "    \n",
    "    Example:\n",
    "    make_prediction(model_2, test_data)\n",
    "    '''\n",
    "    \n",
    "    pred_probs = []\n",
    "    model.eval()\n",
    "    with torch.inference_mode():\n",
    "        for sample in test_data:\n",
    "            # prepare sample (add a batch of dimension)\n",
    "            # sample is a ramdom image from test_data that is in 3d format, we need to add additional dimension\n",
    "            # in passing this through our model (particularly model_2) \n",
    "            # see below code explaination # 1.\n",
    "            sample = torch.unsqueeze(sample, dim=0)\n",
    "            \n",
    "            # forward pass\n",
    "            pred_logit = model(sample)\n",
    "            \n",
    "            # pred probability (logit->prediction probability)\n",
    "            # see code explaination #2\n",
    "            pred_probs.append(torch.softmax(pred_logit.squeeze(), dim=0))\n",
    "            \n",
    "    # stack the pred probs to turn list into a tensor\n",
    "    pred_probs =  torch.stack(pred_probs)\n",
    "    \n",
    "    # convert pred_probs into classes by taking in the argmax\n",
    "    # see code explaination # 3\n",
    "    pred_classes = pred_probs.argmax(dim=1)        \n",
    "            \n",
    "    return pred_classes"
   ]
  },
  {
   "cell_type": "markdown",
   "id": "a3a0562f",
   "metadata": {},
   "source": [
    "### `Code Explanation # 1`\n",
    "<br/>\n",
    "Adding batch dimension and feeding it to model_2"
   ]
  },
  {
   "cell_type": "code",
   "execution_count": 70,
   "id": "c5091b11",
   "metadata": {
    "code_folding": [
     0
    ]
   },
   "outputs": [
    {
     "name": "stdout",
     "output_type": "stream",
     "text": [
      "torch.Size([1, 28, 28])\n",
      "torch.Size([1, 1, 28, 28])\n"
     ]
    },
    {
     "data": {
      "text/plain": [
       "torch.Size([1, 10])"
      ]
     },
     "execution_count": 70,
     "metadata": {},
     "output_type": "execute_result"
    }
   ],
   "source": [
    "# get a sample image from test_data index 0\n",
    "img_1 , label = test_data[0]\n",
    "print(img_1.shape) # before\n",
    "print(img_1.unsqueeze(dim=0).shape) # after\n",
    "\n",
    "#Feeding img.unsqueeze(dim=0) into model_2\n",
    "logit_img_1 = model_2(img_1.unsqueeze(dim=0))\n",
    "logit_img_1.shape # model_2 output shape"
   ]
  },
  {
   "cell_type": "code",
   "execution_count": 71,
   "id": "a8bd6677",
   "metadata": {
    "code_folding": [
     0
    ]
   },
   "outputs": [
    {
     "data": {
      "text/plain": [
       "tensor([[-3.6549, -3.7724, -4.2483, -2.9406, -2.8752,  4.1858, -1.7362,  4.4178,\n",
       "          1.3398,  8.5247]], grad_fn=<AddmmBackward0>)"
      ]
     },
     "execution_count": 71,
     "metadata": {},
     "output_type": "execute_result"
    }
   ],
   "source": [
    "# logits form (model_2 raw output)\n",
    "logit_img_1"
   ]
  },
  {
   "cell_type": "markdown",
   "id": "d452a81d",
   "metadata": {},
   "source": [
    "### `Code Explanation # 2`\n",
    "<br/>\n",
    "Removing 1 dimension in logit_img_1 and feeding it to softmax function"
   ]
  },
  {
   "cell_type": "code",
   "execution_count": 72,
   "id": "a368389d",
   "metadata": {
    "code_folding": []
   },
   "outputs": [
    {
     "name": "stdout",
     "output_type": "stream",
     "text": [
      "torch.Size([10])\n"
     ]
    },
    {
     "data": {
      "text/plain": [
       "tensor([4.9829e-06, 4.4305e-06, 2.7529e-06, 1.0179e-05, 1.0867e-05, 1.2667e-02,\n",
       "        3.3945e-05, 1.5974e-02, 7.3565e-04, 9.7056e-01],\n",
       "       grad_fn=<SoftmaxBackward0>)"
      ]
     },
     "execution_count": 72,
     "metadata": {},
     "output_type": "execute_result"
    }
   ],
   "source": [
    "# logit -> probability\n",
    "print(logit_img_1.squeeze().shape)\n",
    "pred_img_probs = torch.softmax(logit_img_1.squeeze(), dim=0)\n",
    "pred_img_probs"
   ]
  },
  {
   "cell_type": "markdown",
   "id": "d2456b17",
   "metadata": {},
   "source": [
    "### `Code Explaination # 3`"
   ]
  },
  {
   "cell_type": "code",
   "execution_count": 73,
   "id": "48b6f547",
   "metadata": {},
   "outputs": [
    {
     "data": {
      "text/plain": [
       "tensor(9)"
      ]
     },
     "execution_count": 73,
     "metadata": {},
     "output_type": "execute_result"
    }
   ],
   "source": [
    "# Turn the prediction probabilities into prediction labels by taking the argmax()\n",
    "pred_img_prob_class = pred_img_probs.argmax()\n",
    "pred_img_prob_class"
   ]
  },
  {
   "cell_type": "markdown",
   "id": "cf0e9330",
   "metadata": {},
   "source": [
    "***"
   ]
  },
  {
   "cell_type": "markdown",
   "id": "100e055c",
   "metadata": {},
   "source": [
    "## `Retreive 9 random image samples and its corresponding labels from test_data`"
   ]
  },
  {
   "cell_type": "code",
   "execution_count": 84,
   "id": "3837f07e",
   "metadata": {},
   "outputs": [],
   "source": [
    "import random\n",
    "# random.seed(42)\n",
    "test_samples = []\n",
    "test_labels = []\n",
    "\n",
    "for sample, label in random.sample(list(test_data), k=9):\n",
    "    test_samples.append(sample)\n",
    "    test_labels.append(label)"
   ]
  },
  {
   "cell_type": "markdown",
   "id": "d66c948d",
   "metadata": {},
   "source": [
    "## Make prediction"
   ]
  },
  {
   "cell_type": "code",
   "execution_count": 85,
   "id": "2811c3ed",
   "metadata": {},
   "outputs": [
    {
     "data": {
      "text/plain": [
       "(tensor([5, 6, 0, 1, 2, 2, 1, 4, 4]), [5, 2, 0, 1, 2, 2, 1, 4, 4])"
      ]
     },
     "execution_count": 85,
     "metadata": {},
     "output_type": "execute_result"
    }
   ],
   "source": [
    "pred_classes = make_prediction(model_2, test_samples)\n",
    "pred_classes, test_labels"
   ]
  },
  {
   "cell_type": "markdown",
   "id": "6c0e0d11",
   "metadata": {},
   "source": [
    "## Visualize"
   ]
  },
  {
   "cell_type": "code",
   "execution_count": 86,
   "id": "05143659",
   "metadata": {
    "code_folding": [
     0
    ]
   },
   "outputs": [
    {
     "data": {
      "image/png": "[encoded data removed]",
      "text/plain": [
       "<Figure size 900x900 with 9 Axes>"
      ]
     },
     "metadata": {},
     "output_type": "display_data"
    }
   ],
   "source": [
    "# Plot predictions\n",
    "plt.figure(figsize=(9, 9))\n",
    "nrows = 3\n",
    "ncols = 3\n",
    "for i, sample in enumerate(test_samples):\n",
    "  # Create a subplot\n",
    "  plt.subplot(nrows, ncols, i+1)\n",
    "\n",
    "  # Plot the target image\n",
    "  plt.imshow(sample.squeeze(), cmap=\"gray\")\n",
    "\n",
    "  # Find the prediction label (in text form, e.g. \"Sandal\")\n",
    "  pred_label = class_names[pred_classes[i]]\n",
    "\n",
    "  # Get the truth label (in text form, e.g. \"T-shirt\")\n",
    "  truth_label = class_names[test_labels[i]] \n",
    "\n",
    "  # Create the title text of the plot\n",
    "  title_text = f\"Pred: {pred_label} | Truth: {truth_label}\"\n",
    "  \n",
    "  # Check for equality and change title colour accordingly\n",
    "  if pred_label == truth_label:\n",
    "      plt.title(title_text, fontsize=10, c=\"g\") # green text if correct\n",
    "  else:\n",
    "      plt.title(title_text, fontsize=10, c=\"r\") # red text if wrong\n",
    "  plt.axis(False);"
   ]
  },
  {
   "cell_type": "markdown",
   "id": "7934400f",
   "metadata": {},
   "source": [
    "# Confusion Matrix\n",
    "\n",
    "1. Make prediction in our entire test_data set(test_dataloader).\n",
    "2. torchmetric.ConfusionMetrics: https://torchmetrics.readthedocs.io/en/stable/classification/confusion_matrix.html\n",
    "3. mlxtend.plotting.plot_confusion_matrix: https://rasbt.github.io/mlxtend/user_guide/plotting/plot_confusion_matrix/"
   ]
  },
  {
   "cell_type": "markdown",
   "id": "d4a6dcc4",
   "metadata": {},
   "source": [
    "`Making predictions`"
   ]
  },
  {
   "cell_type": "code",
   "execution_count": 132,
   "id": "14032960",
   "metadata": {},
   "outputs": [
    {
     "data": {
      "application/vnd.jupyter.widget-view+json": {
       "model_id": "6fa5aeeae2fc4f2ba81ddee9b675c4f4",
       "version_major": 2,
       "version_minor": 0
      },
      "text/plain": [
       "Making predictions...:   0%|          | 0/313 [00:00<?, ?it/s]"
      ]
     },
     "metadata": {},
     "output_type": "display_data"
    }
   ],
   "source": [
    "y_preds = []\n",
    "model_2.eval()\n",
    "with torch.inference_mode():\n",
    "    # evaluate per batch using test_dataloader\n",
    "    for X_test, y_test in tqdm(test_dataloader, desc='Making predictions...'):\n",
    "        \n",
    "        y_logit = model_2(X_test)\n",
    "        y_preds.append(torch.softmax(y_logit, dim=0).argmax(dim=1))\n",
    "        "
   ]
  },
  {
   "cell_type": "code",
   "execution_count": 133,
   "id": "e9e17559",
   "metadata": {},
   "outputs": [
    {
     "name": "stdout",
     "output_type": "stream",
     "text": [
      "313\n"
     ]
    }
   ],
   "source": [
    "# y_preds is in 313 batches of 32 samples\n",
    "print(len(y_preds))"
   ]
  },
  {
   "cell_type": "code",
   "execution_count": 134,
   "id": "f4086d62",
   "metadata": {},
   "outputs": [
    {
     "data": {
      "text/plain": [
       "(tensor([9, 2, 1,  ..., 8, 1, 7]), torch.Size([10000]))"
      ]
     },
     "execution_count": 134,
     "metadata": {},
     "output_type": "execute_result"
    }
   ],
   "source": [
    "# convert into i demensional tensor\n",
    "y_preds_tensor = torch.concat(y_preds)\n",
    "y_preds_tensor, y_preds_tensor.shape"
   ]
  },
  {
   "cell_type": "markdown",
   "id": "dad20d01",
   "metadata": {},
   "source": [
    "We will compare our y_preds_tensor to the truth label of our test_data by using the .target attributes."
   ]
  },
  {
   "cell_type": "code",
   "execution_count": 145,
   "id": "49544617",
   "metadata": {},
   "outputs": [],
   "source": [
    "y_true_tensor = test_data.targets"
   ]
  },
  {
   "cell_type": "code",
   "execution_count": 147,
   "id": "ffe681c5",
   "metadata": {},
   "outputs": [],
   "source": [
    "from torchmetrics import ConfusionMatrix\n",
    "from mlxtend.plotting import plot_confusion_matrix"
   ]
  },
  {
   "cell_type": "code",
   "execution_count": 158,
   "id": "edfb27ab",
   "metadata": {},
   "outputs": [
    {
     "data": {
      "text/plain": [
       "tensor([[684,   4,  31,  63,  10,   1, 202,   0,   5,   0],\n",
       "        [  9, 892,   7,  65,  19,   0,   4,   1,   2,   1],\n",
       "        [ 10,   2, 792,  15,  99,   0,  79,   0,   2,   1],\n",
       "        [ 20,  10,  25, 844,  40,   1,  51,   0,   9,   0],\n",
       "        [  5,   6, 103,  41, 691,   0, 146,   0,   7,   1],\n",
       "        [ 13,   1,   3,  12,   2, 795,   2,  70,  76,  26],\n",
       "        [ 87,   5,  86,  49,  76,   0, 687,   0,  10,   0],\n",
       "        [  0,   0,   0,   2,   1,  25,   0, 922,  12,  38],\n",
       "        [ 21,   2,  19,  15,  12,   6,  36,   9, 878,   2],\n",
       "        [  1,   1,   1,   1,   1,  28,   5, 108,  11, 843]])"
      ]
     },
     "execution_count": 158,
     "metadata": {},
     "output_type": "execute_result"
    }
   ],
   "source": [
    "cm = ConfusionMatrix(task='multiclass', num_classes=len(class_names))\n",
    "cm = cm(y_preds_tensor, y_true_tensor)\n",
    "cm"
   ]
  },
  {
   "cell_type": "code",
   "execution_count": 170,
   "id": "19102940",
   "metadata": {},
   "outputs": [
    {
     "data": {
      "image/png": "[encoded data removed]",
      "text/plain": [
       "<Figure size 640x480 with 2 Axes>"
      ]
     },
     "metadata": {},
     "output_type": "display_data"
    }
   ],
   "source": [
    "fig, ax = plot_confusion_matrix(cm.numpy(),\n",
    "                                class_names = class_names,\n",
    "                                colorbar=True)"
   ]
  },
  {
   "cell_type": "markdown",
   "id": "70f10fee",
   "metadata": {},
   "source": [
    "`Interpretations:`\n",
    "\n",
    "1. The model wrongly predicted 202 shirts while the true label is a T-shirt/top.\n",
    "2. Our model correctly predicted 922 sneakers.\n",
    "<br/>\n",
    "...."
   ]
  },
  {
   "cell_type": "code",
   "execution_count": null,
   "id": "6726b674",
   "metadata": {},
   "outputs": [],
   "source": []
  },
  {
   "cell_type": "code",
   "execution_count": null,
   "id": "ddc47724",
   "metadata": {},
   "outputs": [],
   "source": []
  },
  {
   "cell_type": "code",
   "execution_count": null,
   "id": "712ce8be",
   "metadata": {},
   "outputs": [],
   "source": []
  }
 ],
 "metadata": {
  "celltoolbar": "Raw Cell Format",
  "kernelspec": {
   "display_name": "Python 3 (ipykernel)",
   "language": "python",
   "name": "python3"
  },
  "language_info": {
   "codemirror_mode": {
    "name": "ipython",
    "version": 3
   },
   "file_extension": ".py",
   "mimetype": "text/x-python",
   "name": "python",
   "nbconvert_exporter": "python",
   "pygments_lexer": "ipython3",
   "version": "3.8.13"
  }
 },
 "nbformat": 4,
 "nbformat_minor": 5
}
