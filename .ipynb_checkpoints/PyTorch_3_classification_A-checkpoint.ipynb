{
 "cells": [
  {
   "cell_type": "markdown",
   "id": "eca68bf0",
   "metadata": {},
   "source": [
    "# PyTorch Classification"
   ]
  },
  {
   "cell_type": "code",
   "execution_count": 1,
   "id": "0a55e0c3",
   "metadata": {},
   "outputs": [
    {
     "name": "stdout",
     "output_type": "stream",
     "text": [
      "(299, 15)\n"
     ]
    },
    {
     "data": {
      "text/html": [
       "<div>\n",
       "<style scoped>\n",
       "    .dataframe tbody tr th:only-of-type {\n",
       "        vertical-align: middle;\n",
       "    }\n",
       "\n",
       "    .dataframe tbody tr th {\n",
       "        vertical-align: top;\n",
       "    }\n",
       "\n",
       "    .dataframe thead th {\n",
       "        text-align: right;\n",
       "    }\n",
       "</style>\n",
       "<table border=\"1\" class=\"dataframe\">\n",
       "  <thead>\n",
       "    <tr style=\"text-align: right;\">\n",
       "      <th></th>\n",
       "      <th>Unnamed: 0</th>\n",
       "      <th>age</th>\n",
       "      <th>anaemia</th>\n",
       "      <th>creatinine_phosphokinase</th>\n",
       "      <th>diabetes</th>\n",
       "      <th>ejection_fraction</th>\n",
       "      <th>high_blood_pressure</th>\n",
       "      <th>platelets</th>\n",
       "      <th>serum_creatinine</th>\n",
       "      <th>serum_sodium</th>\n",
       "      <th>sex</th>\n",
       "      <th>smoking</th>\n",
       "      <th>time</th>\n",
       "      <th>DEATH_EVENT</th>\n",
       "      <th>death_event</th>\n",
       "    </tr>\n",
       "  </thead>\n",
       "  <tbody>\n",
       "    <tr>\n",
       "      <th>0</th>\n",
       "      <td>0</td>\n",
       "      <td>75.0</td>\n",
       "      <td>no</td>\n",
       "      <td>582</td>\n",
       "      <td>no</td>\n",
       "      <td>20</td>\n",
       "      <td>yes</td>\n",
       "      <td>265000.00</td>\n",
       "      <td>1.9</td>\n",
       "      <td>130</td>\n",
       "      <td>yes</td>\n",
       "      <td>no</td>\n",
       "      <td>4</td>\n",
       "      <td>1</td>\n",
       "      <td>yes</td>\n",
       "    </tr>\n",
       "    <tr>\n",
       "      <th>1</th>\n",
       "      <td>1</td>\n",
       "      <td>55.0</td>\n",
       "      <td>no</td>\n",
       "      <td>7861</td>\n",
       "      <td>no</td>\n",
       "      <td>38</td>\n",
       "      <td>no</td>\n",
       "      <td>263358.03</td>\n",
       "      <td>1.1</td>\n",
       "      <td>136</td>\n",
       "      <td>yes</td>\n",
       "      <td>no</td>\n",
       "      <td>6</td>\n",
       "      <td>1</td>\n",
       "      <td>yes</td>\n",
       "    </tr>\n",
       "    <tr>\n",
       "      <th>2</th>\n",
       "      <td>2</td>\n",
       "      <td>65.0</td>\n",
       "      <td>no</td>\n",
       "      <td>146</td>\n",
       "      <td>no</td>\n",
       "      <td>20</td>\n",
       "      <td>no</td>\n",
       "      <td>162000.00</td>\n",
       "      <td>1.3</td>\n",
       "      <td>129</td>\n",
       "      <td>yes</td>\n",
       "      <td>yes</td>\n",
       "      <td>7</td>\n",
       "      <td>1</td>\n",
       "      <td>yes</td>\n",
       "    </tr>\n",
       "    <tr>\n",
       "      <th>3</th>\n",
       "      <td>3</td>\n",
       "      <td>50.0</td>\n",
       "      <td>yes</td>\n",
       "      <td>111</td>\n",
       "      <td>no</td>\n",
       "      <td>20</td>\n",
       "      <td>no</td>\n",
       "      <td>210000.00</td>\n",
       "      <td>1.9</td>\n",
       "      <td>137</td>\n",
       "      <td>yes</td>\n",
       "      <td>no</td>\n",
       "      <td>7</td>\n",
       "      <td>1</td>\n",
       "      <td>yes</td>\n",
       "    </tr>\n",
       "    <tr>\n",
       "      <th>4</th>\n",
       "      <td>4</td>\n",
       "      <td>65.0</td>\n",
       "      <td>yes</td>\n",
       "      <td>160</td>\n",
       "      <td>yes</td>\n",
       "      <td>20</td>\n",
       "      <td>no</td>\n",
       "      <td>327000.00</td>\n",
       "      <td>2.7</td>\n",
       "      <td>116</td>\n",
       "      <td>no</td>\n",
       "      <td>no</td>\n",
       "      <td>8</td>\n",
       "      <td>1</td>\n",
       "      <td>yes</td>\n",
       "    </tr>\n",
       "  </tbody>\n",
       "</table>\n",
       "</div>"
      ],
      "text/plain": [
       "   Unnamed: 0   age anaemia  creatinine_phosphokinase diabetes  \\\n",
       "0           0  75.0      no                       582       no   \n",
       "1           1  55.0      no                      7861       no   \n",
       "2           2  65.0      no                       146       no   \n",
       "3           3  50.0     yes                       111       no   \n",
       "4           4  65.0     yes                       160      yes   \n",
       "\n",
       "   ejection_fraction high_blood_pressure  platelets  serum_creatinine  \\\n",
       "0                 20                 yes  265000.00               1.9   \n",
       "1                 38                  no  263358.03               1.1   \n",
       "2                 20                  no  162000.00               1.3   \n",
       "3                 20                  no  210000.00               1.9   \n",
       "4                 20                  no  327000.00               2.7   \n",
       "\n",
       "   serum_sodium  sex smoking  time  DEATH_EVENT death_event  \n",
       "0           130  yes      no     4            1         yes  \n",
       "1           136  yes      no     6            1         yes  \n",
       "2           129  yes     yes     7            1         yes  \n",
       "3           137  yes      no     7            1         yes  \n",
       "4           116   no      no     8            1         yes  "
      ]
     },
     "execution_count": 1,
     "metadata": {},
     "output_type": "execute_result"
    }
   ],
   "source": [
    "import pandas as pd\n",
    "df = pd.read_csv('heart_failure.csv')\n",
    "print(df.shape)\n",
    "df.head()"
   ]
  },
  {
   "cell_type": "markdown",
   "id": "f87c3357",
   "metadata": {},
   "source": [
    "### Define X and y"
   ]
  },
  {
   "cell_type": "code",
   "execution_count": 2,
   "id": "d7416dd3",
   "metadata": {},
   "outputs": [],
   "source": [
    "y = df['DEATH_EVENT']\n",
    "X = df.loc[:,'age':'time']"
   ]
  },
  {
   "cell_type": "markdown",
   "id": "64b4a56e",
   "metadata": {},
   "source": [
    "### Split data"
   ]
  },
  {
   "cell_type": "code",
   "execution_count": 3,
   "id": "1f383e91",
   "metadata": {},
   "outputs": [
    {
     "name": "stdout",
     "output_type": "stream",
     "text": [
      "(149, 12) (150, 12) (149,) (150,)\n"
     ]
    }
   ],
   "source": [
    "from sklearn.model_selection import train_test_split\n",
    "X_train, X_test, y_train, y_test = train_test_split(X, y, \n",
    "                                                    test_size = 0.5, \n",
    "                                                    random_state = 7\n",
    "                                                   )\n",
    "\n",
    "print(X_train.shape, X_test.shape, y_train.shape, y_test.shape)"
   ]
  },
  {
   "cell_type": "markdown",
   "id": "60243c5f",
   "metadata": {},
   "source": [
    "### Column Transformer (Scale Data & OHE)"
   ]
  },
  {
   "cell_type": "code",
   "execution_count": 4,
   "id": "1348c9d8",
   "metadata": {},
   "outputs": [
    {
     "data": {
      "text/html": [
       "<style>#sk-container-id-1 {color: black;background-color: white;}#sk-container-id-1 pre{padding: 0;}#sk-container-id-1 div.sk-toggleable {background-color: white;}#sk-container-id-1 label.sk-toggleable__label {cursor: pointer;display: block;width: 100%;margin-bottom: 0;padding: 0.3em;box-sizing: border-box;text-align: center;}#sk-container-id-1 label.sk-toggleable__label-arrow:before {content: \"▸\";float: left;margin-right: 0.25em;color: #696969;}#sk-container-id-1 label.sk-toggleable__label-arrow:hover:before {color: black;}#sk-container-id-1 div.sk-estimator:hover label.sk-toggleable__label-arrow:before {color: black;}#sk-container-id-1 div.sk-toggleable__content {max-height: 0;max-width: 0;overflow: hidden;text-align: left;background-color: #f0f8ff;}#sk-container-id-1 div.sk-toggleable__content pre {margin: 0.2em;color: black;border-radius: 0.25em;background-color: #f0f8ff;}#sk-container-id-1 input.sk-toggleable__control:checked~div.sk-toggleable__content {max-height: 200px;max-width: 100%;overflow: auto;}#sk-container-id-1 input.sk-toggleable__control:checked~label.sk-toggleable__label-arrow:before {content: \"▾\";}#sk-container-id-1 div.sk-estimator input.sk-toggleable__control:checked~label.sk-toggleable__label {background-color: #d4ebff;}#sk-container-id-1 div.sk-label input.sk-toggleable__control:checked~label.sk-toggleable__label {background-color: #d4ebff;}#sk-container-id-1 input.sk-hidden--visually {border: 0;clip: rect(1px 1px 1px 1px);clip: rect(1px, 1px, 1px, 1px);height: 1px;margin: -1px;overflow: hidden;padding: 0;position: absolute;width: 1px;}#sk-container-id-1 div.sk-estimator {font-family: monospace;background-color: #f0f8ff;border: 1px dotted black;border-radius: 0.25em;box-sizing: border-box;margin-bottom: 0.5em;}#sk-container-id-1 div.sk-estimator:hover {background-color: #d4ebff;}#sk-container-id-1 div.sk-parallel-item::after {content: \"\";width: 100%;border-bottom: 1px solid gray;flex-grow: 1;}#sk-container-id-1 div.sk-label:hover label.sk-toggleable__label {background-color: #d4ebff;}#sk-container-id-1 div.sk-serial::before {content: \"\";position: absolute;border-left: 1px solid gray;box-sizing: border-box;top: 0;bottom: 0;left: 50%;z-index: 0;}#sk-container-id-1 div.sk-serial {display: flex;flex-direction: column;align-items: center;background-color: white;padding-right: 0.2em;padding-left: 0.2em;position: relative;}#sk-container-id-1 div.sk-item {position: relative;z-index: 1;}#sk-container-id-1 div.sk-parallel {display: flex;align-items: stretch;justify-content: center;background-color: white;position: relative;}#sk-container-id-1 div.sk-item::before, #sk-container-id-1 div.sk-parallel-item::before {content: \"\";position: absolute;border-left: 1px solid gray;box-sizing: border-box;top: 0;bottom: 0;left: 50%;z-index: -1;}#sk-container-id-1 div.sk-parallel-item {display: flex;flex-direction: column;z-index: 1;position: relative;background-color: white;}#sk-container-id-1 div.sk-parallel-item:first-child::after {align-self: flex-end;width: 50%;}#sk-container-id-1 div.sk-parallel-item:last-child::after {align-self: flex-start;width: 50%;}#sk-container-id-1 div.sk-parallel-item:only-child::after {width: 0;}#sk-container-id-1 div.sk-dashed-wrapped {border: 1px dashed gray;margin: 0 0.4em 0.5em 0.4em;box-sizing: border-box;padding-bottom: 0.4em;background-color: white;}#sk-container-id-1 div.sk-label label {font-family: monospace;font-weight: bold;display: inline-block;line-height: 1.2em;}#sk-container-id-1 div.sk-label-container {text-align: center;}#sk-container-id-1 div.sk-container {/* jupyter's `normalize.less` sets `[hidden] { display: none; }` but bootstrap.min.css set `[hidden] { display: none !important; }` so we also need the `!important` here to be able to override the default hidden behavior on the sphinx rendered scikit-learn.org. See: https://github.com/scikit-learn/scikit-learn/issues/21755 */display: inline-block !important;position: relative;}#sk-container-id-1 div.sk-text-repr-fallback {display: none;}</style><div id=\"sk-container-id-1\" class=\"sk-top-container\"><div class=\"sk-text-repr-fallback\"><pre>ColumnTransformer(transformers=[(&#x27;numeric&#x27;, StandardScaler(),\n",
       "                                 [&#x27;age&#x27;, &#x27;creatinine_phosphokinase&#x27;,\n",
       "                                  &#x27;ejection_fraction&#x27;, &#x27;platelets&#x27;,\n",
       "                                  &#x27;serum_creatinine&#x27;, &#x27;serum_sodium&#x27;, &#x27;time&#x27;]),\n",
       "                                (&#x27;categorical&#x27;, OneHotEncoder(),\n",
       "                                 [&#x27;anaemia&#x27;, &#x27;diabetes&#x27;, &#x27;high_blood_pressure&#x27;,\n",
       "                                  &#x27;sex&#x27;, &#x27;smoking&#x27;])])</pre><b>In a Jupyter environment, please rerun this cell to show the HTML representation or trust the notebook. <br />On GitHub, the HTML representation is unable to render, please try loading this page with nbviewer.org.</b></div><div class=\"sk-container\" hidden><div class=\"sk-item sk-dashed-wrapped\"><div class=\"sk-label-container\"><div class=\"sk-label sk-toggleable\"><input class=\"sk-toggleable__control sk-hidden--visually\" id=\"sk-estimator-id-1\" type=\"checkbox\" ><label for=\"sk-estimator-id-1\" class=\"sk-toggleable__label sk-toggleable__label-arrow\">ColumnTransformer</label><div class=\"sk-toggleable__content\"><pre>ColumnTransformer(transformers=[(&#x27;numeric&#x27;, StandardScaler(),\n",
       "                                 [&#x27;age&#x27;, &#x27;creatinine_phosphokinase&#x27;,\n",
       "                                  &#x27;ejection_fraction&#x27;, &#x27;platelets&#x27;,\n",
       "                                  &#x27;serum_creatinine&#x27;, &#x27;serum_sodium&#x27;, &#x27;time&#x27;]),\n",
       "                                (&#x27;categorical&#x27;, OneHotEncoder(),\n",
       "                                 [&#x27;anaemia&#x27;, &#x27;diabetes&#x27;, &#x27;high_blood_pressure&#x27;,\n",
       "                                  &#x27;sex&#x27;, &#x27;smoking&#x27;])])</pre></div></div></div><div class=\"sk-parallel\"><div class=\"sk-parallel-item\"><div class=\"sk-item\"><div class=\"sk-label-container\"><div class=\"sk-label sk-toggleable\"><input class=\"sk-toggleable__control sk-hidden--visually\" id=\"sk-estimator-id-2\" type=\"checkbox\" ><label for=\"sk-estimator-id-2\" class=\"sk-toggleable__label sk-toggleable__label-arrow\">numeric</label><div class=\"sk-toggleable__content\"><pre>[&#x27;age&#x27;, &#x27;creatinine_phosphokinase&#x27;, &#x27;ejection_fraction&#x27;, &#x27;platelets&#x27;, &#x27;serum_creatinine&#x27;, &#x27;serum_sodium&#x27;, &#x27;time&#x27;]</pre></div></div></div><div class=\"sk-serial\"><div class=\"sk-item\"><div class=\"sk-estimator sk-toggleable\"><input class=\"sk-toggleable__control sk-hidden--visually\" id=\"sk-estimator-id-3\" type=\"checkbox\" ><label for=\"sk-estimator-id-3\" class=\"sk-toggleable__label sk-toggleable__label-arrow\">StandardScaler</label><div class=\"sk-toggleable__content\"><pre>StandardScaler()</pre></div></div></div></div></div></div><div class=\"sk-parallel-item\"><div class=\"sk-item\"><div class=\"sk-label-container\"><div class=\"sk-label sk-toggleable\"><input class=\"sk-toggleable__control sk-hidden--visually\" id=\"sk-estimator-id-4\" type=\"checkbox\" ><label for=\"sk-estimator-id-4\" class=\"sk-toggleable__label sk-toggleable__label-arrow\">categorical</label><div class=\"sk-toggleable__content\"><pre>[&#x27;anaemia&#x27;, &#x27;diabetes&#x27;, &#x27;high_blood_pressure&#x27;, &#x27;sex&#x27;, &#x27;smoking&#x27;]</pre></div></div></div><div class=\"sk-serial\"><div class=\"sk-item\"><div class=\"sk-estimator sk-toggleable\"><input class=\"sk-toggleable__control sk-hidden--visually\" id=\"sk-estimator-id-5\" type=\"checkbox\" ><label for=\"sk-estimator-id-5\" class=\"sk-toggleable__label sk-toggleable__label-arrow\">OneHotEncoder</label><div class=\"sk-toggleable__content\"><pre>OneHotEncoder()</pre></div></div></div></div></div></div></div></div></div></div>"
      ],
      "text/plain": [
       "ColumnTransformer(transformers=[('numeric', StandardScaler(),\n",
       "                                 ['age', 'creatinine_phosphokinase',\n",
       "                                  'ejection_fraction', 'platelets',\n",
       "                                  'serum_creatinine', 'serum_sodium', 'time']),\n",
       "                                ('categorical', OneHotEncoder(),\n",
       "                                 ['anaemia', 'diabetes', 'high_blood_pressure',\n",
       "                                  'sex', 'smoking'])])"
      ]
     },
     "execution_count": 4,
     "metadata": {},
     "output_type": "execute_result"
    }
   ],
   "source": [
    "from sklearn.compose import ColumnTransformer\n",
    "from sklearn.preprocessing import StandardScaler, LabelEncoder,  OneHotEncoder\n",
    "\n",
    "# define the columns and their transformations\n",
    "preprocessor = ColumnTransformer([(\"numeric\", \n",
    "                                     StandardScaler(),\n",
    "                                    ['age', 'creatinine_phosphokinase', 'ejection_fraction', 'platelets',\n",
    "                                     'serum_creatinine', 'serum_sodium', 'time',]), \n",
    "                                   \n",
    "                                   (\"categorical\",\n",
    "                                    OneHotEncoder(),\n",
    "                                    ['anaemia','diabetes', 'high_blood_pressure', 'sex', 'smoking' ])\n",
    "\n",
    "                                   ])\n",
    "preprocessor"
   ]
  },
  {
   "cell_type": "code",
   "execution_count": 5,
   "id": "691860e6",
   "metadata": {},
   "outputs": [],
   "source": [
    "# fit the preprocessor \n",
    "X_train = preprocessor.fit_transform(X_train)\n",
    "X_test = preprocessor.transform(X_test)"
   ]
  },
  {
   "cell_type": "markdown",
   "id": "2ca2c003",
   "metadata": {},
   "source": [
    "### Convert to Tensors"
   ]
  },
  {
   "cell_type": "code",
   "execution_count": 6,
   "id": "c80934e5",
   "metadata": {},
   "outputs": [],
   "source": [
    "# Convert y data into numpy array first / X data is already in numpy array type\n",
    "y_train = y_train.values\n",
    "y_test = y_test.values"
   ]
  },
  {
   "cell_type": "code",
   "execution_count": 7,
   "id": "5077965b",
   "metadata": {},
   "outputs": [
    {
     "name": "stdout",
     "output_type": "stream",
     "text": [
      "<class 'torch.Tensor'> <class 'torch.Tensor'> <class 'torch.Tensor'> <class 'torch.Tensor'>\n"
     ]
    }
   ],
   "source": [
    "import torch\n",
    "X_train = torch.from_numpy(X_train).type(torch.float)\n",
    "y_train = torch.from_numpy(y_train).type(torch.float)\n",
    "X_test = torch.from_numpy(X_test).type(torch.float)\n",
    "y_test = torch.from_numpy(y_test).type(torch.float)\n",
    "print(type(X_train), type(X_test), type(y_train), type(y_test))"
   ]
  },
  {
   "cell_type": "markdown",
   "id": "5bcfc34e",
   "metadata": {},
   "source": [
    "***"
   ]
  },
  {
   "cell_type": "markdown",
   "id": "b4c9c302",
   "metadata": {},
   "source": [
    "### Create a Model"
   ]
  },
  {
   "cell_type": "code",
   "execution_count": 8,
   "id": "199a88ac",
   "metadata": {
    "code_folding": []
   },
   "outputs": [
    {
     "data": {
      "text/plain": [
       "Neural_Net_V0(\n",
       "  (layer_1): Linear(in_features=17, out_features=34, bias=True)\n",
       "  (layer_2): Linear(in_features=34, out_features=34, bias=True)\n",
       "  (layer_3): Linear(in_features=34, out_features=1, bias=True)\n",
       "  (relu): ReLU()\n",
       ")"
      ]
     },
     "execution_count": 8,
     "metadata": {},
     "output_type": "execute_result"
    }
   ],
   "source": [
    "# Create a Neural Network Class\n",
    "from torch import nn\n",
    "class Neural_Net_V0(nn.Module):\n",
    "    def __init__(self):\n",
    "        super().__init__()\n",
    "\n",
    "        self.layer_1 = nn.Linear(in_features=17, out_features=34)\n",
    "        self.layer_2 = nn.Linear(in_features=34, out_features=34)\n",
    "        self.layer_3 = nn.Linear(in_features=34, out_features=1)\n",
    "        # add relU activation function\n",
    "        self.relu = nn.ReLU() #  non-linear activation function\n",
    "#         self.sigmoid = nn.Sigmoid() # note: usually sigmoid function is implemented here but since were using \n",
    "#                                             nn.BCEWithLogitsLoss(), we will apply the sigmoid fucntion in our logits\n",
    "#                                             value in the Training loops.\n",
    "\n",
    "    def forward(self, x):\n",
    "#         z = self.layer_1(x)\n",
    "#         z = self.layer_2(z)\n",
    "#         z = self.layer_3(z)\n",
    "        return  self.layer_3(self.relu(self.layer_2(self.relu(self.layer_1(x)))))\n",
    "    \n",
    "model_2 = Neural_Net_V0()\n",
    "model_2"
   ]
  },
  {
   "cell_type": "markdown",
   "id": "2d835dbb",
   "metadata": {},
   "source": [
    "### Accuracy Function"
   ]
  },
  {
   "cell_type": "code",
   "execution_count": 9,
   "id": "b608984b",
   "metadata": {},
   "outputs": [],
   "source": [
    "def accuracy_fn(y_train, y_pred):\n",
    "    correct = torch.eq(y_train, y_pred).sum().item()\n",
    "    acc = (correct/len(y_pred)) * 100\n",
    "    return acc "
   ]
  },
  {
   "cell_type": "markdown",
   "id": "4d300a76",
   "metadata": {},
   "source": [
    "### Loss Fucntion and Optimizer"
   ]
  },
  {
   "cell_type": "code",
   "execution_count": 10,
   "id": "6cfad3d5",
   "metadata": {},
   "outputs": [],
   "source": [
    "loss_fn = nn.BCEWithLogitsLoss()\n",
    "optimizer = torch.optim.SGD(params=model_2.parameters(),\n",
    "                           lr = 0.1)"
   ]
  },
  {
   "cell_type": "markdown",
   "id": "a83d3c1a",
   "metadata": {},
   "source": [
    "### Training Loops"
   ]
  },
  {
   "cell_type": "code",
   "execution_count": 11,
   "id": "8eb05db3",
   "metadata": {
    "code_folding": [
     4
    ]
   },
   "outputs": [
    {
     "name": "stdout",
     "output_type": "stream",
     "text": [
      "Epoch:0, | Loss:0.66711 | Acc\"67.79% | Test Loss:0.66723 | Test Acc:68.00\n",
      "Epoch:100, | Loss:0.47283 | Acc\"75.84% | Test Loss:0.47340 | Test Acc:74.67\n",
      "Epoch:200, | Loss:0.37482 | Acc\"83.22% | Test Loss:0.38526 | Test Acc:83.33\n",
      "Epoch:300, | Loss:0.32496 | Acc\"87.25% | Test Loss:0.38634 | Test Acc:84.67\n",
      "Epoch:400, | Loss:0.26484 | Acc\"90.60% | Test Loss:0.40345 | Test Acc:84.67\n",
      "Epoch:500, | Loss:0.19309 | Acc\"94.63% | Test Loss:0.46615 | Test Acc:84.67\n",
      "Epoch:600, | Loss:0.12611 | Acc\"97.99% | Test Loss:0.58637 | Test Acc:82.67\n",
      "Epoch:700, | Loss:0.07913 | Acc\"99.33% | Test Loss:0.73514 | Test Acc:80.00\n",
      "Epoch:800, | Loss:0.04995 | Acc\"100.00% | Test Loss:0.88241 | Test Acc:79.33\n",
      "Epoch:900, | Loss:0.03319 | Acc\"100.00% | Test Loss:1.01292 | Test Acc:78.67\n"
     ]
    }
   ],
   "source": [
    "# Build traning and evaluation loop on `model_2`\n",
    "\n",
    "torch.manual_seed(42)\n",
    "epochs = 1000\n",
    "for epoch in range(epochs):\n",
    "    ########TRAININGI MODE########\n",
    "    model_2.train()\n",
    "    # Forward pass\n",
    "    y_logits = model_2(X_train).squeeze() # convert to 1 dimension / logits is the raw prediction data\n",
    "    y_pred = torch.round(torch.sigmoid(y_logits)) # turn logits -> sigmoid function -> pred probability -> pred labels   \n",
    "    # Calcualte loss/accuracy\n",
    "    loss = loss_fn(y_logits, # nn.BCEWithLogitdLoss expect raw logits as input\n",
    "                   y_train)\n",
    "    acc = accuracy_fn(y_train,\n",
    "                      y_pred)\n",
    "    # Optimizer zero grad\n",
    "    optimizer.zero_grad()    \n",
    "    # loss backward\n",
    "    loss.backward()   \n",
    "    # Optimizer step\n",
    "    optimizer.step()  \n",
    "    ########TESTING MODE########\n",
    "    model_2.eval()\n",
    "    with torch.inference_mode():\n",
    "        # forward pass\n",
    "        test_logits = model_2(X_test).squeeze()\n",
    "        test_pred = torch.round(torch.sigmoid(test_logits))\n",
    "        # calculate the test_loss/accurary\n",
    "        test_loss = loss_fn(test_logits,\n",
    "                            y_test)\n",
    "        test_acc = accuracy_fn(y_test,\n",
    "                          test_pred)\n",
    "        if epoch % 100 == 0:\n",
    "            print(f'Epoch:{epoch}, | Loss:{loss:.5f} | Acc\"{acc:.2f}% | Test Loss:{test_loss:.5f} | Test Acc:{test_acc:.2f}')"
   ]
  },
  {
   "cell_type": "markdown",
   "id": "4fa46c53",
   "metadata": {},
   "source": [
    "### Import our Helper Function"
   ]
  },
  {
   "cell_type": "code",
   "execution_count": 23,
   "id": "0a185427",
   "metadata": {},
   "outputs": [
    {
     "name": "stdout",
     "output_type": "stream",
     "text": [
      "Downloading helper_fucntion.py\n"
     ]
    }
   ],
   "source": [
    "import requests\n",
    "from pathlib import Path\n",
    "\n",
    "# Downloading helper_functions from learn PyTorch repo (if not already downloaded)\n",
    "if Path('helper_fucntion.py').is_file():\n",
    "    print('helper_function already exist, skipping download')    \n",
    "else:\n",
    "    print('Downloading helper_fucntion.py')\n",
    "    # download the raw file\n",
    "    request = requests.get('https://raw.githubusercontent.com/mrdbourke/pytorch-deep-learning/main/helper_functions.py')\n",
    "    with open ('helper_functions.py', 'wb') as f:\n",
    "           f.write(request.content)            "
   ]
  },
  {
   "cell_type": "code",
   "execution_count": 24,
   "id": "8a6a2f61",
   "metadata": {},
   "outputs": [],
   "source": [
    "from helper_functions import plot_predictions, plot_decision_boundary"
   ]
  },
  {
   "cell_type": "markdown",
   "id": "0dc09ad5",
   "metadata": {},
   "source": [
    "### Plot Decision Boundary of the Model"
   ]
  },
  {
   "cell_type": "markdown",
   "id": "1ce4e126",
   "metadata": {},
   "source": [
    "`Note:` We can only plot a 2D (two features) space or even 3D (Three feature) space. If you knew an apps or code than can visualize N number of dimensions, please let me know. "
   ]
  },
  {
   "cell_type": "code",
   "execution_count": 26,
   "id": "8d969fe6",
   "metadata": {},
   "outputs": [],
   "source": [
    "# Visualize! Visualize! Visualize!\n",
    "# plt.figure(figsize=(12,6))\n",
    "\n",
    "# plt.subplot(1,2,1)\n",
    "# plt.title('Train')\n",
    "# plot_decision_boundary(model_2, X_train, y_train)\n",
    "\n",
    "# plt.subplot(1,2,2)\n",
    "# plt.title('Test')\n",
    "# plot_decision_boundary(model_2, X_test, y_test)"
   ]
  },
  {
   "cell_type": "markdown",
   "id": "3fd7879a",
   "metadata": {},
   "source": [
    "### Confusion Matrix"
   ]
  },
  {
   "cell_type": "code",
   "execution_count": 27,
   "id": "535bd840",
   "metadata": {},
   "outputs": [
    {
     "data": {
      "text/plain": [
       "array([[88, 14],\n",
       "       [18, 30]], dtype=int64)"
      ]
     },
     "execution_count": 27,
     "metadata": {},
     "output_type": "execute_result"
    }
   ],
   "source": [
    "from sklearn.metrics import confusion_matrix\n",
    "model_matrix = confusion_matrix(y_test, test_pred)\n",
    "model_matrix"
   ]
  },
  {
   "cell_type": "code",
   "execution_count": 28,
   "id": "81c73f89",
   "metadata": {},
   "outputs": [
    {
     "data": {
      "text/plain": [
       "<AxesSubplot:>"
      ]
     },
     "execution_count": 28,
     "metadata": {},
     "output_type": "execute_result"
    },
    {
     "data": {
      "image/png": "[encoded data removed]",
      "text/plain": [
       "<Figure size 800x500 with 2 Axes>"
      ]
     },
     "metadata": {},
     "output_type": "display_data"
    }
   ],
   "source": [
    "# Visualize\n",
    "import numpy as np\n",
    "import seaborn as sns\n",
    "\n",
    "fig, ax = plt.subplots(figsize=(8,5))\n",
    "# setting variables\n",
    "group_names = ['True Neg','False Pos','False Neg','True Pos']\n",
    "group_counts = ['{0:0.0f}'.format(value) for value in model_matrix.flatten()]\n",
    "group_percentages = ['{0:.2%}'.format(value) for value in model_matrix.flatten()/np.sum(model_matrix)]\n",
    "labels = [f'{v1}\\n{v2}\\n{v3}' for v1, v2, v3 in zip(group_names,group_counts,group_percentages)]\n",
    "labels = np.asarray(labels).reshape(2,2)\n",
    "\n",
    "sns.heatmap(model_matrix, annot=labels, fmt='', cmap='Purples')"
   ]
  },
  {
   "cell_type": "code",
   "execution_count": null,
   "id": "2df6d5e6",
   "metadata": {},
   "outputs": [],
   "source": []
  },
  {
   "cell_type": "code",
   "execution_count": null,
   "id": "7c005fcf",
   "metadata": {},
   "outputs": [],
   "source": []
  },
  {
   "cell_type": "code",
   "execution_count": null,
   "id": "1380306b",
   "metadata": {},
   "outputs": [],
   "source": []
  },
  {
   "cell_type": "code",
   "execution_count": null,
   "id": "e0bee091",
   "metadata": {},
   "outputs": [],
   "source": []
  },
  {
   "cell_type": "code",
   "execution_count": null,
   "id": "069b05cb",
   "metadata": {},
   "outputs": [],
   "source": []
  },
  {
   "cell_type": "code",
   "execution_count": null,
   "id": "9132e966",
   "metadata": {},
   "outputs": [],
   "source": []
  },
  {
   "cell_type": "code",
   "execution_count": null,
   "id": "9a876d41",
   "metadata": {},
   "outputs": [],
   "source": []
  }
 ],
 "metadata": {
  "kernelspec": {
   "display_name": "Python 3 (ipykernel)",
   "language": "python",
   "name": "python3"
  },
  "language_info": {
   "codemirror_mode": {
    "name": "ipython",
    "version": 3
   },
   "file_extension": ".py",
   "mimetype": "text/x-python",
   "name": "python",
   "nbconvert_exporter": "python",
   "pygments_lexer": "ipython3",
   "version": "3.8.13"
  }
 },
 "nbformat": 4,
 "nbformat_minor": 5
}
