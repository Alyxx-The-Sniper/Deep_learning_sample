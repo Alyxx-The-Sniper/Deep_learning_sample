{
 "cells": [
  {
   "cell_type": "markdown",
   "id": "2227de65",
   "metadata": {},
   "source": [
    "# PyTorch \n",
    "Linear Regression"
   ]
  },
  {
   "cell_type": "markdown",
   "id": "9a29cb44",
   "metadata": {},
   "source": [
    "## Task:\n",
    "Create a linear regression model that approximates our known parameters (weight and bias) using randomly initialized weight and bias values."
   ]
  },
  {
   "cell_type": "markdown",
   "id": "761a9555",
   "metadata": {},
   "source": [
    "### Import necessary Library and Packages"
   ]
  },
  {
   "cell_type": "code",
   "execution_count": 1,
   "id": "e6e8437f",
   "metadata": {},
   "outputs": [],
   "source": [
    "import torch\n",
    "from torch import nn\n",
    "import pandas as pd\n",
    "import numpy as np\n",
    "import matplotlib.pyplot as plt"
   ]
  },
  {
   "cell_type": "markdown",
   "id": "94a9a989",
   "metadata": {},
   "source": [
    "### Setup Variables"
   ]
  },
  {
   "cell_type": "code",
   "execution_count": 2,
   "id": "9baf8a96",
   "metadata": {},
   "outputs": [
    {
     "data": {
      "text/plain": [
       "(tensor([[0.0000],\n",
       "         [0.0200],\n",
       "         [0.0400]]),\n",
       " tensor([[0.3000],\n",
       "         [0.3140],\n",
       "         [0.3280]]))"
      ]
     },
     "execution_count": 2,
     "metadata": {},
     "output_type": "execute_result"
    }
   ],
   "source": [
    "# known parameters\n",
    "weight = 0.7\n",
    "bias = 0.3\n",
    "\n",
    "# variables\n",
    "start = 0\n",
    "end = 1\n",
    "step = 0.02\n",
    "\n",
    "# X and y\n",
    "X = torch.arange(start, end, step).unsqueeze(dim=1)\n",
    "y = weight * X + bias\n",
    "\n",
    "X[:3], y[:3]"
   ]
  },
  {
   "cell_type": "markdown",
   "id": "4e0a652c",
   "metadata": {},
   "source": [
    "### Split data"
   ]
  },
  {
   "cell_type": "code",
   "execution_count": 3,
   "id": "6cc5f2aa",
   "metadata": {},
   "outputs": [
    {
     "name": "stdout",
     "output_type": "stream",
     "text": [
      "40 40\n",
      "10 10\n"
     ]
    }
   ],
   "source": [
    "train_split = int(0.8 * len(X))\n",
    "X_train, y_train = X[:train_split], y[:train_split]\n",
    "X_test, y_test = X[train_split:], y[train_split:] \n",
    "print(len(X_train), len(y_train))\n",
    "print(len(X_test), len(y_test))"
   ]
  },
  {
   "cell_type": "markdown",
   "id": "3ed2d8ca",
   "metadata": {},
   "source": [
    "## Linear Regression"
   ]
  },
  {
   "cell_type": "markdown",
   "id": "c995e4a8",
   "metadata": {},
   "source": [
    "Formula:\n",
    "- y = mx + b\n",
    "\n",
    "where:\n",
    "- m = weight\n",
    "- x = features\n",
    "- b = bias"
   ]
  },
  {
   "cell_type": "markdown",
   "id": "46aafc23",
   "metadata": {},
   "source": [
    "Creating a class that inherit the nn.Module class from PyTorch library. In this class we will manually set the weights and bias then create a method that will perform the forward propagation using the linear regression formula."
   ]
  },
  {
   "cell_type": "code",
   "execution_count": 4,
   "id": "d99db200",
   "metadata": {
    "code_folding": []
   },
   "outputs": [],
   "source": [
    "class Lr(nn.Module):\n",
    "    \n",
    "    # inherit from mother class(nn.Module)/define new attributes\n",
    "    def __init__(self):\n",
    "        super().__init__()\n",
    "        self.weights = nn.Parameter(torch.randn(1,\n",
    "                                                 requires_grad =True,\n",
    "                                                 dtype=torch.float))\n",
    "        self.bias = nn.Parameter(torch.randn(1,\n",
    "                                                 requires_grad =True,\n",
    "                                                 dtype=torch.float))\n",
    "        \n",
    "    # forward method to define computation in the model\n",
    "    # if we subclass nn.Module, we should overide the forward method\n",
    "    def forward(self, x: torch.Tensor): # x is the input data\n",
    "        return self.weights * x + self.bias # this is Linear Regression formula        "
   ]
  },
  {
   "cell_type": "markdown",
   "id": "f501a709",
   "metadata": {},
   "source": [
    "### Class Instance"
   ]
  },
  {
   "cell_type": "code",
   "execution_count": 5,
   "id": "4df8a4d0",
   "metadata": {},
   "outputs": [],
   "source": [
    "# create a random seed\n",
    "torch.manual_seed(42)\n",
    "# create an instance of the model\n",
    "model_0 = Lr()"
   ]
  },
  {
   "cell_type": "code",
   "execution_count": 8,
   "id": "3f3a453a",
   "metadata": {},
   "outputs": [
    {
     "data": {
      "text/plain": [
       "[Parameter containing:\n",
       " tensor([0.3367], requires_grad=True),\n",
       " Parameter containing:\n",
       " tensor([0.1288], requires_grad=True)]"
      ]
     },
     "execution_count": 8,
     "metadata": {},
     "output_type": "execute_result"
    }
   ],
   "source": [
    "#check parameters\n",
    "list(model_0.parameters())"
   ]
  },
  {
   "cell_type": "code",
   "execution_count": 9,
   "id": "f7e6a4ed",
   "metadata": {},
   "outputs": [
    {
     "data": {
      "text/plain": [
       "OrderedDict([('weights', tensor([0.3367])), ('bias', tensor([0.1288]))])"
      ]
     },
     "execution_count": 9,
     "metadata": {},
     "output_type": "execute_result"
    }
   ],
   "source": [
    "# list named parameters\n",
    "model_0.state_dict()"
   ]
  },
  {
   "cell_type": "markdown",
   "id": "76cdab50",
   "metadata": {},
   "source": [
    "### Making Prediction Using tensor.infenrence_mode()\n",
    "Used for evaluation/testing"
   ]
  },
  {
   "cell_type": "code",
   "execution_count": 8,
   "id": "66486caa",
   "metadata": {},
   "outputs": [
    {
     "data": {
      "text/plain": [
       "tensor([[0.3982],\n",
       "        [0.4049],\n",
       "        [0.4116],\n",
       "        [0.4184],\n",
       "        [0.4251],\n",
       "        [0.4318],\n",
       "        [0.4386],\n",
       "        [0.4453],\n",
       "        [0.4520],\n",
       "        [0.4588]])"
      ]
     },
     "execution_count": 8,
     "metadata": {},
     "output_type": "execute_result"
    }
   ],
   "source": [
    "# run faster, gradient decent is not monitored (gradient is not attached to this tensor)\n",
    "with torch.inference_mode():\n",
    "    y_preds = model_0(X_test)\n",
    "y_preds "
   ]
  },
  {
   "cell_type": "markdown",
   "id": "00c2a390",
   "metadata": {},
   "source": [
    " Without inference mode gradient descent is monitored (gradient is attached to this tensor) "
   ]
  },
  {
   "cell_type": "code",
   "execution_count": 10,
   "id": "7b6afebc",
   "metadata": {},
   "outputs": [
    {
     "data": {
      "text/plain": [
       "tensor([[0.3982],\n",
       "        [0.4049],\n",
       "        [0.4116],\n",
       "        [0.4184],\n",
       "        [0.4251],\n",
       "        [0.4318],\n",
       "        [0.4386],\n",
       "        [0.4453],\n",
       "        [0.4520],\n",
       "        [0.4588]], grad_fn=<AddBackward0>)"
      ]
     },
     "execution_count": 10,
     "metadata": {},
     "output_type": "execute_result"
    }
   ],
   "source": [
    "y_preds = model_0(X_test)\n",
    "y_preds"
   ]
  },
  {
   "cell_type": "markdown",
   "id": "0dce1da6",
   "metadata": {},
   "source": [
    "Detach the gradient descent for us to plot in scatterplot"
   ]
  },
  {
   "cell_type": "code",
   "execution_count": 11,
   "id": "115ebb03",
   "metadata": {},
   "outputs": [],
   "source": [
    "y_preds_np = y_preds.detach().numpy()"
   ]
  },
  {
   "cell_type": "markdown",
   "id": "612a776d",
   "metadata": {},
   "source": [
    "### Comparing the y_test vs y_preds "
   ]
  },
  {
   "cell_type": "code",
   "execution_count": 12,
   "id": "695b5943",
   "metadata": {
    "code_folding": []
   },
   "outputs": [],
   "source": [
    "#\n",
    "def plot_predictions(train_data = X_train,\n",
    "                    train_labels=y_train,\n",
    "                    test_data = X_test,\n",
    "                    test_labels = y_test,\n",
    "                    predictions=None):\n",
    "    \n",
    "    plt.figure(figsize=(7,5))\n",
    "    \n",
    "    #plot training data\n",
    "    plt.scatter(train_data, train_labels, c='b', label= \"training data\")\n",
    "    #plot test data\n",
    "    plt.scatter(test_data, test_labels, c='r', label= \"testing data\")\n",
    "    \n",
    "    #plot the prediction if any\n",
    "    if predictions is not None:\n",
    "        plt.scatter(test_data, predictions, c='orange', label= 'predictions')\n",
    "        \n",
    "    plt.legend(prop={'size':10})"
   ]
  },
  {
   "cell_type": "code",
   "execution_count": 13,
   "id": "17028411",
   "metadata": {},
   "outputs": [
    {
     "data": {
      "image/png": "[encoded data removed]",
      "text/plain": [
       "<Figure size 700x500 with 1 Axes>"
      ]
     },
     "metadata": {},
     "output_type": "display_data"
    }
   ],
   "source": [
    "plot_predictions(predictions=y_preds_np)"
   ]
  },
  {
   "cell_type": "markdown",
   "id": "e621e0e7",
   "metadata": {},
   "source": [
    "We want our predictions to be as close to our testing data value.\n",
    "- At this point our model is  not trained and the weight and bias are not optimized\n"
   ]
  },
  {
   "cell_type": "markdown",
   "id": "4ef61817",
   "metadata": {},
   "source": [
    "### Training our model\n",
    "The whole idea of training is for a model to move from unknown parameters (these maybe random) to some known parameters. \n",
    "\n",
    "Or in other words from poor representation of the data to a better representation of the data.\n",
    "\n",
    "One way to measure how poor or how wrong the model predictions are is to use a loss function.\n",
    "\n",
    "Things to train:\n",
    "1. loss function (measure the error)\n",
    "2. Optimizer (adjust weight and bias)"
   ]
  },
  {
   "cell_type": "code",
   "execution_count": 14,
   "id": "c4955d3e",
   "metadata": {},
   "outputs": [
    {
     "data": {
      "text/plain": [
       "OrderedDict([('weights', tensor([0.3367])), ('bias', tensor([0.1288]))])"
      ]
     },
     "execution_count": 14,
     "metadata": {},
     "output_type": "execute_result"
    }
   ],
   "source": [
    "# view the weight and bias\n",
    "model_0.state_dict()"
   ]
  },
  {
   "cell_type": "markdown",
   "id": "4b194d6f",
   "metadata": {},
   "source": [
    "### Define the Loss fucntion and Optimizer"
   ]
  },
  {
   "cell_type": "code",
   "execution_count": 15,
   "id": "7bfb509c",
   "metadata": {
    "code_folding": [
     4
    ]
   },
   "outputs": [],
   "source": [
    "# setup loss function\n",
    "loss_fn = nn.L1Loss() # MAE\n",
    "\n",
    "# setup optimizer\n",
    "optimizer = torch.optim.SGD(params = model_0.parameters(),\n",
    "                            lr=0.01) "
   ]
  },
  {
   "cell_type": "markdown",
   "id": "82c57764",
   "metadata": {},
   "source": [
    "### Training loop\n",
    "1. loop through the data\n",
    "2. forward pass\n",
    "3. calculate the loss\n",
    "4. optimizer zero grad\n",
    "5. loss backward\n",
    "6. optimizer step"
   ]
  },
  {
   "cell_type": "markdown",
   "id": "58b24729",
   "metadata": {},
   "source": [
    "Our goal is to minimize the loss."
   ]
  },
  {
   "cell_type": "code",
   "execution_count": 16,
   "id": "0b635117",
   "metadata": {
    "code_folding": [
     8
    ]
   },
   "outputs": [
    {
     "name": "stdout",
     "output_type": "stream",
     "text": [
      "Epoch: 0 | MAE Train Loss: 0.31288138031959534 | MAE Test loss: 0.48106518387794495\n",
      "Epoch: 10 | MAE Train Loss: 0.1976713240146637 | MAE Test loss: 0.3463551998138428\n",
      "Epoch: 20 | MAE Train Loss: 0.08908725529909134 | MAE Test loss: 0.21729660034179688\n",
      "Epoch: 30 | MAE Train Loss: 0.053148526698350906 | MAE Test loss: 0.14464017748832703\n",
      "Epoch: 40 | MAE Train Loss: 0.04543796554207802 | MAE Test loss: 0.11360953003168106\n",
      "Epoch: 50 | MAE Train Loss: 0.04167863354086876 | MAE Test loss: 0.09919948130846024\n",
      "Epoch: 60 | MAE Train Loss: 0.03818932920694351 | MAE Test loss: 0.08886633068323135\n",
      "Epoch: 70 | MAE Train Loss: 0.03476089984178543 | MAE Test loss: 0.0805937647819519\n",
      "Epoch: 80 | MAE Train Loss: 0.03132382780313492 | MAE Test loss: 0.07232122868299484\n",
      "Epoch: 90 | MAE Train Loss: 0.02788739837706089 | MAE Test loss: 0.06473556160926819\n",
      "Epoch: 100 | MAE Train Loss: 0.024458957836031914 | MAE Test loss: 0.05646304413676262\n",
      "Epoch: 110 | MAE Train Loss: 0.021020207554101944 | MAE Test loss: 0.04819049686193466\n",
      "Epoch: 120 | MAE Train Loss: 0.01758546568453312 | MAE Test loss: 0.04060482233762741\n",
      "Epoch: 130 | MAE Train Loss: 0.014155393466353416 | MAE Test loss: 0.03233227878808975\n",
      "Epoch: 140 | MAE Train Loss: 0.010716589167714119 | MAE Test loss: 0.024059748277068138\n",
      "Epoch: 150 | MAE Train Loss: 0.0072835334576666355 | MAE Test loss: 0.016474086791276932\n",
      "Epoch: 160 | MAE Train Loss: 0.0038517764769494534 | MAE Test loss: 0.008201557211577892\n",
      "Epoch: 170 | MAE Train Loss: 0.008932482451200485 | MAE Test loss: 0.005023092031478882\n",
      "Epoch: 180 | MAE Train Loss: 0.008932482451200485 | MAE Test loss: 0.005023092031478882\n"
     ]
    }
   ],
   "source": [
    "# Training loop\n",
    "# setup empty list to keep track of model progress\n",
    "epochs = 190\n",
    "epoch_count = []\n",
    "train_loss_values = []\n",
    "test_loss_values = []\n",
    "\n",
    "# 1. loop through the data\n",
    "for epoch in range(epochs):\n",
    "    \n",
    "    ########TRAINING MODE##################################\n",
    "    # by default the model will keep track of the gradient decent\n",
    "    model_0.train()\n",
    "    \n",
    "    # 2. forward pass\n",
    "    y_pred = model_0(X_train)\n",
    "    \n",
    "    # 3. calculate loss\n",
    "    # the loss between the predicted value from X_train vs the true value\n",
    "    # w/c is the y_train\n",
    "    # the loss for the training data\n",
    "    loss = loss_fn(y_pred, y_train) \n",
    "    \n",
    "    # 4.optimizer zero grad\n",
    "    optimizer.zero_grad()\n",
    "    \n",
    "    # 5. perform backpropagation on the loss w/ respect to the parameters of the model\n",
    "    loss.backward()\n",
    "    \n",
    "    # 6. Step the optimizer (perfomr gradient descent) \n",
    "    optimizer.step()\n",
    "    # note: by default how the optimzer changes will accumulate throught the loop...\n",
    "    # so we have to \"optimizer zero grad\" in step number 4.\n",
    "    \n",
    "    #######TESTING/EVALUATION MODE#################################\n",
    "    # turn off settings not needed for evaluation/testing(dropout/batch norm layers)\n",
    "    model_0.eval() \n",
    "    \n",
    "    # turns off gradient tracking \n",
    "    # in testing mode we dont need to track the gradient (to run the test faster) \n",
    "    with torch.inference_mode():\n",
    "        # do forward pass (Test Data)\n",
    "        test_pred = model_0(X_test)\n",
    "        # calculate the loss (Test Data)\n",
    "        test_loss = loss_fn(test_pred, y_test)\n",
    "        \n",
    "     # print out what's happening every 10 epoch's\n",
    "    if epoch % 10 == 0:\n",
    "        epoch_count.append(epoch)\n",
    "        train_loss_values.append(loss)\n",
    "        test_loss_values.append(test_loss)\n",
    "        print(f'Epoch: {epoch} | MAE Train Loss: {loss} | MAE Test loss: {test_loss}')  "
   ]
  },
  {
   "cell_type": "code",
   "execution_count": 21,
   "id": "18c4c480",
   "metadata": {},
   "outputs": [
    {
     "name": "stdout",
     "output_type": "stream",
     "text": [
      "loss: 0.0025885067880153656\n",
      "OrderedDict([('weights', tensor([0.6990])), ('bias', tensor([0.3093]))])\n"
     ]
    }
   ],
   "source": [
    "# try running our training loop multiple time to see how our loss and \n",
    "# models parameter changes\n",
    "print(f'loss: {loss}')\n",
    "print(model_0.state_dict())  "
   ]
  },
  {
   "cell_type": "markdown",
   "id": "053bb565",
   "metadata": {},
   "source": [
    "### Visualize the Tain and Test loss (MAE)"
   ]
  },
  {
   "cell_type": "code",
   "execution_count": 22,
   "id": "e08d42ed",
   "metadata": {
    "code_folding": [
     0
    ]
   },
   "outputs": [
    {
     "data": {
      "text/plain": [
       "<matplotlib.legend.Legend at 0x2572c9b7fd0>"
      ]
     },
     "execution_count": 22,
     "metadata": {},
     "output_type": "execute_result"
    },
    {
     "data": {
      "image/png": "[encoded data removed]",
      "text/plain": [
       "<Figure size 640x480 with 1 Axes>"
      ]
     },
     "metadata": {},
     "output_type": "display_data"
    }
   ],
   "source": [
    "# plot the loss\n",
    "# epoch count on x axis and both the train and test MAE loss on the y axis\n",
    "\n",
    "xtrain_loss = np.array(torch.tensor(train_loss_values))\n",
    "xtest_loss = np.array(torch.tensor(test_loss_values))\n",
    "\n",
    "plt.plot(epoch_count, xtrain_loss , label = 'train MAE loss')\n",
    "plt.plot(epoch_count, xtest_loss, label = 'test MAE loss')\n",
    "\n",
    "plt.xlabel('Number of Epoch')\n",
    "plt.ylabel('MAE Loss')\n",
    "plt.legend()"
   ]
  },
  {
   "cell_type": "code",
   "execution_count": 18,
   "id": "f99cff79",
   "metadata": {
    "code_folding": []
   },
   "outputs": [
    {
     "data": {
      "image/png": "[encoded data removed]",
      "text/plain": [
       "<Figure size 700x500 with 1 Axes>"
      ]
     },
     "metadata": {},
     "output_type": "display_data"
    }
   ],
   "source": [
    "# after running the training loops multiple times, and when we are satistied\n",
    "# with the loss result, we can view our new predictions for the X_test data\n",
    "with torch.inference_mode():\n",
    "    y_preds_new = model_0(X_test)\n",
    "plot_predictions(predictions=y_preds_new)"
   ]
  },
  {
   "cell_type": "markdown",
   "id": "aebf99e3",
   "metadata": {},
   "source": [
    "***"
   ]
  }
 ],
 "metadata": {
  "kernelspec": {
   "display_name": "Python 3 (ipykernel)",
   "language": "python",
   "name": "python3"
  },
  "language_info": {
   "codemirror_mode": {
    "name": "ipython",
    "version": 3
   },
   "file_extension": ".py",
   "mimetype": "text/x-python",
   "name": "python",
   "nbconvert_exporter": "python",
   "pygments_lexer": "ipython3",
   "version": "3.8.13"
  }
 },
 "nbformat": 4,
 "nbformat_minor": 5
}
