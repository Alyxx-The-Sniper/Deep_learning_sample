{
 "cells": [
  {
   "cell_type": "markdown",
   "id": "1ff86487",
   "metadata": {},
   "source": [
    "# Object-oriented programming (OOP)\n",
    "Object-oriented programming (OOP) is a programming paradigm that revolves around the concept of objects, which are instances of classes. OOP features include encapsulation, abstraction, inheritance, and polymorphism. OOP is useful for creating modular, reusable, and maintainable code."
   ]
  },
  {
   "cell_type": "markdown",
   "id": "cd2cc80f",
   "metadata": {},
   "source": [
    "## Classes and Instance"
   ]
  },
  {
   "cell_type": "markdown",
   "id": "07f2d0d9",
   "metadata": {},
   "source": [
    "Creating an Archer Class"
   ]
  },
  {
   "cell_type": "code",
   "execution_count": null,
   "id": "5cbe1e5f",
   "metadata": {},
   "outputs": [],
   "source": [
    "class Archer:\n",
    "    \n",
    "    # this method has three arguments named name, element_type power_level\n",
    "    # name, element_type and power_level are attributes of an instance(self)\n",
    "    def __init__(self, name, element_type, power_level):\n",
    "        self.name = name\n",
    "        self.element_type = element_type\n",
    "        self.power_level = int(power_level)\n",
    "        \n",
    "    # method\n",
    "    def character_details(self):\n",
    "      return 'name:{} -> element_type:{} -> power_level:{}'.format(self.name,\n",
    "                                                        self.element_type,\n",
    "                                                        self.power_level)"
   ]
  },
  {
   "cell_type": "markdown",
   "id": "d2f3321f",
   "metadata": {},
   "source": [
    "- The code defines a Python class called Archer.\n",
    "- The class has an __init__ method that takes three `arguments` named name, element_type, and rating.\n",
    "- These arguments are used to initialize three attributes of the instance: self.name, self.element_type, and self.rating.\n",
    "- The __init__ method is called automatically when a new instance of the class is created.\n",
    "- The class also has a `method` called character_details.\n",
    "- The character_details method takes one argument, self, which refers to the instance of the class.\n",
    "- The method returns a formatted string that includes the values of the name, element_type, and rating attributes of the instance."
   ]
  },
  {
   "cell_type": "markdown",
   "id": "b6721638",
   "metadata": {},
   "source": [
    "#### Creating Instances of Archer Class"
   ]
  },
  {
   "cell_type": "code",
   "execution_count": null,
   "id": "79652ca0",
   "metadata": {},
   "outputs": [],
   "source": [
    "ar1 = Archer('gilmesh','fire', 5 )\n",
    "ar2 = Archer('emiya', 'ice', 4)"
   ]
  },
  {
   "cell_type": "markdown",
   "id": "34834c14",
   "metadata": {},
   "source": [
    "- The code creates two instances of the Archer class, named ar1 and ar2.\n",
    "- The first instance is created by calling the Archer class constructor with the arguments 'gilgamesh', 'fire', and 5. This sets the name attribute of the ar1 instance to 'gilgamesh', the element_type attribute to 'fire', and the power_level attribute to 5.\n",
    "- The second instance is created by calling the Archer class constructor with the arguments 'emiya', 'ice', and 4. This sets the name attribute of the ar2 instance to 'emiya', the element_type attribute to 'ice', and the power_level attribute to 4.\n",
    "- Each instance of the Archer class has its own set of attributes, which are initialized when the instance is created.\n",
    "- The ar1 and ar2 variables now refer to two distinct instances of the Archer class, each with their own set of attribute values.\n",
    "- These instances can be used to call methods defined in the Archer class, such as the character_details method, which can be used to retrieve information about the attributes of each instance."
   ]
  },
  {
   "cell_type": "markdown",
   "id": "1c61226a",
   "metadata": {},
   "source": [
    "#### Accessing Attribute"
   ]
  },
  {
   "cell_type": "code",
   "execution_count": null,
   "id": "e3433a23",
   "metadata": {},
   "outputs": [],
   "source": [
    "ar1.name"
   ]
  },
  {
   "cell_type": "markdown",
   "id": "39d6d6dc",
   "metadata": {},
   "source": [
    "The code ar1.name is used to access the name attribute of the ar1 instance of the Archer class, which is a string representing the name of the archer. The dot notation is used to access instance attributes of a class."
   ]
  },
  {
   "cell_type": "markdown",
   "id": "7c356e24",
   "metadata": {},
   "source": [
    "#### Accesing Method, (from instance) "
   ]
  },
  {
   "cell_type": "code",
   "execution_count": null,
   "id": "f49d3365",
   "metadata": {},
   "outputs": [],
   "source": [
    "ar1.character_details()"
   ]
  },
  {
   "cell_type": "markdown",
   "id": "f11e6927",
   "metadata": {},
   "source": [
    "- The code calls the character_details method of the ar1 instance of the Archer class.\n",
    "- The character_details method is a method defined in the Archer class that takes no arguments and returns a formatted string representing the details of the Archer instance on which it is called."
   ]
  },
  {
   "cell_type": "markdown",
   "id": "f580534f",
   "metadata": {},
   "source": [
    "#### Accesing Method, (from class) "
   ]
  },
  {
   "cell_type": "code",
   "execution_count": null,
   "id": "24a5bede",
   "metadata": {},
   "outputs": [],
   "source": [
    "Archer.character_details(ar1)"
   ]
  },
  {
   "cell_type": "markdown",
   "id": "3f0b7833",
   "metadata": {},
   "source": [
    "- The code calls the character_details method of the Archer class with an argument of ar1."
   ]
  },
  {
   "cell_type": "markdown",
   "id": "e5087908",
   "metadata": {},
   "source": [
    "## Class Variable\n",
    "A class variable is a variable that is shared by all instances of a class. It is defined within the class but outside of any methods, and is accessed using the class name or in an instance of the class. Class variables can be useful for defining attributes or values that are common to all instances of the class, or for maintaining a count of the number of instances that have been created."
   ]
  },
  {
   "cell_type": "code",
   "execution_count": 41,
   "id": "4f39ccbb",
   "metadata": {},
   "outputs": [],
   "source": [
    "class Archer:\n",
    "    \n",
    "    # class variable\n",
    "    raise_power = 2\n",
    "    \n",
    "    def __init__(self, name, element_type, power_level):\n",
    "        self.name = name\n",
    "        self.element_type = element_type\n",
    "        self.power_level = float(power_level)\n",
    "        \n",
    "    # method\n",
    "    def character_details(self):\n",
    "      return 'name:{} -> element_type:{} -> power_level:{}'.format(self.name,\n",
    "                                                        self.element_type,\n",
    "                                                        self.power_level)\n",
    "\n",
    "    def apply_raise_power(self):\n",
    "        # access the 'raise_power' class variable via instance\n",
    "        self.power_level = float(self.power_level * self.raise_power) "
   ]
  },
  {
   "cell_type": "code",
   "execution_count": 42,
   "id": "703a4585",
   "metadata": {},
   "outputs": [],
   "source": [
    "# Creating Instances)\n",
    "ar1 = Archer('gilmesh','fire', 5 )\n",
    "ar2 = Archer('emiya', 'ice', 4)"
   ]
  },
  {
   "cell_type": "markdown",
   "id": "a9922a10",
   "metadata": {},
   "source": [
    "#### Access the `raise_power class variable"
   ]
  },
  {
   "cell_type": "code",
   "execution_count": 43,
   "id": "2be4a031",
   "metadata": {},
   "outputs": [
    {
     "name": "stdout",
     "output_type": "stream",
     "text": [
      "2\n",
      "2\n",
      "2\n"
     ]
    }
   ],
   "source": [
    "# by class\n",
    "print(Archer.raise_power)\n",
    "# by instances\n",
    "print(ar1.raise_power)\n",
    "print(ar2.raise_power)"
   ]
  },
  {
   "cell_type": "markdown",
   "id": "7c8a8878",
   "metadata": {},
   "source": [
    "#### Applying the raise_power in all instances"
   ]
  },
  {
   "cell_type": "code",
   "execution_count": 44,
   "id": "fff97ab7",
   "metadata": {},
   "outputs": [
    {
     "name": "stdout",
     "output_type": "stream",
     "text": [
      "10.0\n",
      "8.0\n"
     ]
    }
   ],
   "source": [
    "for i in [ar1, ar2]:\n",
    "    i.apply_raise_power()\n",
    "\n",
    "print(ar1.power_level)\n",
    "print(ar2.power_level)"
   ]
  },
  {
   "cell_type": "markdown",
   "id": "06f216a5",
   "metadata": {},
   "source": [
    "#### Applying the raise_power in just one instance"
   ]
  },
  {
   "cell_type": "code",
   "execution_count": 50,
   "id": "2ce9d819",
   "metadata": {},
   "outputs": [
    {
     "name": "stdout",
     "output_type": "stream",
     "text": [
      "8.0\n",
      "10000.0\n"
     ]
    }
   ],
   "source": [
    "# change the raise_power of ar1 instance to 10\n",
    "ar1.raise_power = 10\n",
    "# apply the changes\n",
    "ar1.apply_raise_power()\n",
    "# print the new power_level\n",
    "\n",
    "print(ar2.power_level)\n",
    "print(ar1.power_level)"
   ]
  },
  {
   "cell_type": "markdown",
   "id": "43e3fc82",
   "metadata": {},
   "source": [
    "Notice that only rhe ar1 instance has the change in raise_power"
   ]
  },
  {
   "cell_type": "code",
   "execution_count": 52,
   "id": "01dee711",
   "metadata": {},
   "outputs": [
    {
     "name": "stdout",
     "output_type": "stream",
     "text": [
      "10\n",
      "2\n"
     ]
    }
   ],
   "source": [
    "print(ar1.raise_power)\n",
    "print(ar2.raise_power)"
   ]
  },
  {
   "cell_type": "code",
   "execution_count": null,
   "id": "ccde8c44",
   "metadata": {},
   "outputs": [],
   "source": []
  },
  {
   "cell_type": "code",
   "execution_count": null,
   "id": "1410fb39",
   "metadata": {},
   "outputs": [],
   "source": []
  },
  {
   "cell_type": "code",
   "execution_count": null,
   "id": "5813d44b",
   "metadata": {},
   "outputs": [],
   "source": []
  },
  {
   "cell_type": "code",
   "execution_count": null,
   "id": "e3ce0eb2",
   "metadata": {},
   "outputs": [],
   "source": []
  },
  {
   "cell_type": "code",
   "execution_count": null,
   "id": "047d2e00",
   "metadata": {},
   "outputs": [],
   "source": []
  }
 ],
 "metadata": {
  "kernelspec": {
   "display_name": "Python 3 (ipykernel)",
   "language": "python",
   "name": "python3"
  },
  "language_info": {
   "codemirror_mode": {
    "name": "ipython",
    "version": 3
   },
   "file_extension": ".py",
   "mimetype": "text/x-python",
   "name": "python",
   "nbconvert_exporter": "python",
   "pygments_lexer": "ipython3",
   "version": "3.8.13"
  }
 },
 "nbformat": 4,
 "nbformat_minor": 5
}
