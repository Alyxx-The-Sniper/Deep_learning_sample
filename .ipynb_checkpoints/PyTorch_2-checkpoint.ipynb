{
 "cells": [
  {
   "cell_type": "markdown",
   "id": "248f31bc",
   "metadata": {},
   "source": [
    "# Linear Regression V2"
   ]
  },
  {
   "cell_type": "markdown",
   "id": "c65be9aa",
   "metadata": {},
   "source": [
    "### Import necessary library and packages"
   ]
  },
  {
   "cell_type": "code",
   "execution_count": 1,
   "id": "d2d28bd3",
   "metadata": {
    "code_folding": [
     0
    ]
   },
   "outputs": [],
   "source": [
    "# import\n",
    "import torch\n",
    "from torch import nn\n",
    "import pandas as pd\n",
    "import numpy as np\n",
    "import matplotlib.pyplot as plt"
   ]
  },
  {
   "cell_type": "code",
   "execution_count": 2,
   "id": "339754eb",
   "metadata": {
    "code_folding": [
     0
    ]
   },
   "outputs": [],
   "source": [
    "# Setting X and y values and spliting the data\n",
    "# known parameters\n",
    "weight = 0.7\n",
    "bias = 0.3\n",
    "\n",
    "# variables\n",
    "start = 0\n",
    "end = 1\n",
    "step = 0.02\n",
    "\n",
    "# X and y\n",
    "X = torch.arange(start, end, step).unsqueeze(dim=1)\n",
    "y = weight * X + bias\n",
    "\n",
    "# Split data\n",
    "train_split = int(0.8 * len(X))\n",
    "X_train, y_train = X[:train_split], y[:train_split]\n",
    "X_test, y_test = X[train_split:], y[train_split:] "
   ]
  },
  {
   "cell_type": "markdown",
   "id": "d2f91dd8",
   "metadata": {},
   "source": [
    "### Create Class\n",
    "Using nn.Linear\n",
    "<br/>\n",
    "link for different kind of layers: https://pytorch.org/docs/stable/nn.html"
   ]
  },
  {
   "cell_type": "code",
   "execution_count": 3,
   "id": "ec620d93",
   "metadata": {},
   "outputs": [
    {
     "name": "stdout",
     "output_type": "stream",
     "text": [
      "LinearRegressionV2(\n",
      "  (linear_layer): Linear(in_features=1, out_features=1, bias=True)\n",
      ")\n"
     ]
    },
    {
     "data": {
      "text/plain": [
       "OrderedDict([('linear_layer.weight', tensor([[0.7645]])),\n",
       "             ('linear_layer.bias', tensor([0.8300]))])"
      ]
     },
     "execution_count": 3,
     "metadata": {},
     "output_type": "execute_result"
    }
   ],
   "source": [
    "class LinearRegressionV2(nn.Module):\n",
    "    def __init__(self):\n",
    "        super().__init__()\n",
    "        # use nn.Linear for creating the model\n",
    "        self.linear_layer = nn.Linear(in_features= 1,\n",
    "                                      out_features= 1)\n",
    "        \n",
    "    def forward(self, x: torch.Tensor):\n",
    "            return self.linear_layer(x)\n",
    "        \n",
    "# Create an instance of the class\n",
    "# set the manual seed first\n",
    "torch.manual_seed(42)\n",
    "model_lr_v2 = LinearRegressionV2()\n",
    "\n",
    "# view model details\n",
    "print(model_lr_v2)\n",
    "model_lr_v2.state_dict()"
   ]
  },
  {
   "cell_type": "markdown",
   "id": "98dc827a",
   "metadata": {},
   "source": [
    "### Training\n",
    "For training we need:\n",
    "- Loss Fucntion\n",
    "- Optimizer\n",
    "- Training loop\n",
    "- Testing loop"
   ]
  },
  {
   "cell_type": "code",
   "execution_count": 4,
   "id": "ad42752a",
   "metadata": {},
   "outputs": [],
   "source": [
    "# setup loss function\n",
    "loss_fn = nn.L1Loss() # MAE\n",
    "# setup optimizer\n",
    "optimizer = torch.optim.SGD(params=model_lr_v2.parameters(),\n",
    "                            lr = 0.001)"
   ]
  },
  {
   "cell_type": "code",
   "execution_count": 5,
   "id": "4a43c37f",
   "metadata": {
    "code_folding": [
     5
    ]
   },
   "outputs": [
    {
     "name": "stdout",
     "output_type": "stream",
     "text": [
      "Epoch: 0 | MAE Train Loss: 0.5551779866218567 | MAE Test loss: 0.5861000418663025\n",
      "Epoch: 100 | MAE Train Loss: 0.4399694502353668 | MAE Test loss: 0.4513920247554779\n",
      "Epoch: 200 | MAE Train Loss: 0.3247610628604889 | MAE Test loss: 0.31668391823768616\n",
      "Epoch: 300 | MAE Train Loss: 0.2095526158809662 | MAE Test loss: 0.1819758117198944\n",
      "Epoch: 400 | MAE Train Loss: 0.0943441390991211 | MAE Test loss: 0.04726767539978027\n",
      "Epoch: 500 | MAE Train Loss: 0.02415679767727852 | MAE Test loss: 0.044561706483364105\n",
      "Epoch: 600 | MAE Train Loss: 0.019893139600753784 | MAE Test loss: 0.046012092381715775\n",
      "Epoch: 700 | MAE Train Loss: 0.016448121517896652 | MAE Test loss: 0.03835631161928177\n",
      "Epoch: 800 | MAE Train Loss: 0.013013547286391258 | MAE Test loss: 0.030322950333356857\n",
      "Epoch: 900 | MAE Train Loss: 0.009578981436789036 | MAE Test loss: 0.022289592772722244\n",
      "Epoch: 1000 | MAE Train Loss: 0.006145041435956955 | MAE Test loss: 0.014290553517639637\n",
      "Epoch: 1100 | MAE Train Loss: 0.002710457891225815 | MAE Test loss: 0.006257194094359875\n",
      "Epoch: 1200 | MAE Train Loss: 0.0007765017217025161 | MAE Test loss: 0.0006200253847055137\n",
      "Epoch: 1300 | MAE Train Loss: 0.0007765017217025161 | MAE Test loss: 0.0006200253847055137\n",
      "Epoch: 1400 | MAE Train Loss: 0.0007765017217025161 | MAE Test loss: 0.0006200253847055137\n"
     ]
    }
   ],
   "source": [
    "# training loop\n",
    "torch.manual_seed(42)\n",
    "epochs = 1500 \n",
    "\n",
    "epoch_count = []\n",
    "train_loss_values = []\n",
    "test_loss_values = []\n",
    "\n",
    "for epoch in range(epochs):\n",
    "    ###TRAINING MODE### \n",
    "    model_lr_v2.train()\n",
    "    \n",
    "    # forward pass\n",
    "    y_pred = model_lr_v2(X_train)\n",
    "    \n",
    "    # calculate the loss\n",
    "    loss = loss_fn(y_pred, y_train)\n",
    "    \n",
    "    # optimizer zero grad\n",
    "    optimizer.zero_grad()\n",
    "    \n",
    "    # back propagation\n",
    "    loss.backward()\n",
    "    \n",
    "    # optimizer\n",
    "    optimizer.step()\n",
    "    \n",
    "    ###TESTING MODE### \n",
    "    model_lr_v2.eval()\n",
    "    with torch.inference_mode():\n",
    "        test_pred = model_lr_v2(X_test)\n",
    "        \n",
    "        test_loss = loss_fn(test_pred, y_test)\n",
    "        \n",
    "    # print out what's happening every 10 epoch's\n",
    "    if epoch % 100 == 0:\n",
    "        epoch_count.append(epoch)\n",
    "        train_loss_values.append(loss)\n",
    "        test_loss_values.append(test_loss)\n",
    "        print(f'Epoch: {epoch} | MAE Train Loss: {loss} | MAE Test loss: {test_loss}')  "
   ]
  },
  {
   "cell_type": "code",
   "execution_count": 6,
   "id": "274b2958",
   "metadata": {},
   "outputs": [
    {
     "data": {
      "text/plain": [
       "OrderedDict([('linear_layer.weight', tensor([[0.6999]])),\n",
       "             ('linear_layer.bias', tensor([0.3008]))])"
      ]
     },
     "execution_count": 6,
     "metadata": {},
     "output_type": "execute_result"
    }
   ],
   "source": [
    "# check the new parameters\n",
    "model_lr_v2.state_dict()"
   ]
  },
  {
   "cell_type": "markdown",
   "id": "33e2f319",
   "metadata": {},
   "source": [
    "### Visualize"
   ]
  },
  {
   "cell_type": "code",
   "execution_count": 7,
   "id": "21aa3a6a",
   "metadata": {
    "code_folding": [
     0
    ]
   },
   "outputs": [
    {
     "data": {
      "text/plain": [
       "<matplotlib.legend.Legend at 0x1bef97cfb20>"
      ]
     },
     "execution_count": 7,
     "metadata": {},
     "output_type": "execute_result"
    },
    {
     "data": {
      "image/png": "[encoded data removed]",
      "text/plain": [
       "<Figure size 640x480 with 1 Axes>"
      ]
     },
     "metadata": {},
     "output_type": "display_data"
    }
   ],
   "source": [
    "# plot the loss\n",
    "# epoch count on x axis and both the train and test MAE loss on the y axis\n",
    "\n",
    "xtrain_loss = np.array(torch.tensor(train_loss_values))\n",
    "xtest_loss = np.array(torch.tensor(test_loss_values))\n",
    "\n",
    "plt.plot(epoch_count, xtrain_loss , label = 'train MAE loss')\n",
    "plt.plot(epoch_count, xtest_loss, label = 'test MAE loss')\n",
    "\n",
    "plt.xlabel('Number of Epoch')\n",
    "plt.ylabel('MAE Loss')\n",
    "plt.legend()"
   ]
  },
  {
   "cell_type": "code",
   "execution_count": 24,
   "id": "9efe465d",
   "metadata": {
    "code_folding": [
     0
    ]
   },
   "outputs": [],
   "source": [
    "def plot_predictions(train_data = X_train,\n",
    "                    train_labels=y_train,\n",
    "                    test_data = X_test,\n",
    "                    test_labels = y_test,\n",
    "                    predictions=None):\n",
    "    \n",
    "    plt.figure(figsize=(7,5))\n",
    "    \n",
    "    #plot training data\n",
    "    plt.scatter(train_data, train_labels, c='b', label= \"training data\")\n",
    "    #plot test data\n",
    "    plt.scatter(test_data, test_labels, c='r', \n",
    "                alpha = 0.2,\n",
    "                label= \"testing data\")\n",
    "    \n",
    "    #plot the prediction if any\n",
    "    if predictions is not None:\n",
    "        plt.scatter(test_data, predictions, c='green',\n",
    "                    alpha = 0.5,\n",
    "                    label= 'predictions')\n",
    "        \n",
    "    plt.legend(prop={'size':10})"
   ]
  },
  {
   "cell_type": "code",
   "execution_count": 25,
   "id": "7b0a3153",
   "metadata": {},
   "outputs": [
    {
     "data": {
      "image/png": "[encoded data removed]",
      "text/plain": [
       "<Figure size 700x500 with 1 Axes>"
      ]
     },
     "metadata": {},
     "output_type": "display_data"
    }
   ],
   "source": [
    "with torch.inference_mode():\n",
    "    y_preds_new = model_lr_v2(X_test)\n",
    "plot_predictions(predictions=y_preds_new)"
   ]
  }
 ],
 "metadata": {
  "kernelspec": {
   "display_name": "Python 3 (ipykernel)",
   "language": "python",
   "name": "python3"
  },
  "language_info": {
   "codemirror_mode": {
    "name": "ipython",
    "version": 3
   },
   "file_extension": ".py",
   "mimetype": "text/x-python",
   "name": "python",
   "nbconvert_exporter": "python",
   "pygments_lexer": "ipython3",
   "version": "3.8.13"
  }
 },
 "nbformat": 4,
 "nbformat_minor": 5
}
