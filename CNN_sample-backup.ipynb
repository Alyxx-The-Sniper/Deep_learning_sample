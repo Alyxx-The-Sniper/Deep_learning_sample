{
 "cells": [
  {
   "cell_type": "markdown",
   "id": "a6a6b422",
   "metadata": {},
   "source": [
    "# CNN"
   ]
  },
  {
   "cell_type": "code",
   "execution_count": 115,
   "id": "a63ff5f9",
   "metadata": {},
   "outputs": [],
   "source": [
    "import torch"
   ]
  },
  {
   "cell_type": "code",
   "execution_count": 116,
   "id": "4522af70",
   "metadata": {},
   "outputs": [],
   "source": [
    "import torchvision\n",
    "from torchvision import transforms\n",
    "from torchvision.transforms import ToTensor"
   ]
  },
  {
   "cell_type": "code",
   "execution_count": 117,
   "id": "641f7a5b",
   "metadata": {},
   "outputs": [],
   "source": [
    "import matplotlib.pyplot as plt"
   ]
  },
  {
   "cell_type": "markdown",
   "id": "8596c0e9",
   "metadata": {},
   "source": [
    "## Getting a Dataset"
   ]
  },
  {
   "cell_type": "markdown",
   "id": "849c24a9",
   "metadata": {},
   "source": [
    "We will use FashionMNIST dataset from torch vision datasets.\n",
    "\n",
    "link to dataset in PyTorch built-in dataset: https://pytorch.org/vision/stable/generated/torchvision.datasets.FashionMNIST.html#torchvision.datasets.FashionMNIST"
   ]
  },
  {
   "cell_type": "code",
   "execution_count": 118,
   "id": "90aaf69f",
   "metadata": {},
   "outputs": [],
   "source": [
    "from torchvision import datasets\n",
    "\n",
    "train_data = datasets.FashionMNIST(\n",
    "    root= 'data', # where to download data to \n",
    "    train = True,  # do we want the training data? (dataset already formatted)\n",
    "    download = True,\n",
    "    transform = ToTensor(), # how do we want to transform the data\n",
    "    target_transform = None # dont tranform the labels    \n",
    ")\n",
    "\n",
    "test_data = datasets.FashionMNIST(\n",
    "    root = 'data',\n",
    "    train = False,\n",
    "    download = True,\n",
    "    transform = ToTensor(),\n",
    "    target_transform = None\n",
    ")"
   ]
  },
  {
   "cell_type": "markdown",
   "id": "5c0f8d43",
   "metadata": {},
   "source": [
    "### Exploring the dataset"
   ]
  },
  {
   "cell_type": "markdown",
   "id": "b96b776e",
   "metadata": {},
   "source": [
    "#### Check size"
   ]
  },
  {
   "cell_type": "code",
   "execution_count": 119,
   "id": "59ab7282",
   "metadata": {},
   "outputs": [
    {
     "data": {
      "text/plain": [
       "(60000, 10000)"
      ]
     },
     "execution_count": 119,
     "metadata": {},
     "output_type": "execute_result"
    }
   ],
   "source": [
    "len(train_data), len(test_data)"
   ]
  },
  {
   "cell_type": "markdown",
   "id": "a41544b2",
   "metadata": {},
   "source": [
    "#### Common Attributes \n",
    "Exploring the coomon attributes of the train_data (transformed dataset to the format our model accept).\n",
    "\n",
    "`Note:`\n",
    "\n",
    "Built-in datasets from torchvision are already transform. If we will use custom dataset we might need to the `from torchvision import transforms` method."
   ]
  },
  {
   "cell_type": "markdown",
   "id": "af239aaa",
   "metadata": {},
   "source": [
    "#### Class Index"
   ]
  },
  {
   "cell_type": "code",
   "execution_count": 120,
   "id": "5b7d1b96",
   "metadata": {},
   "outputs": [
    {
     "data": {
      "text/plain": [
       "{'T-shirt/top': 0,\n",
       " 'Trouser': 1,\n",
       " 'Pullover': 2,\n",
       " 'Dress': 3,\n",
       " 'Coat': 4,\n",
       " 'Sandal': 5,\n",
       " 'Shirt': 6,\n",
       " 'Sneaker': 7,\n",
       " 'Bag': 8,\n",
       " 'Ankle boot': 9}"
      ]
     },
     "execution_count": 120,
     "metadata": {},
     "output_type": "execute_result"
    }
   ],
   "source": [
    " train_data.class_to_idx"
   ]
  },
  {
   "cell_type": "code",
   "execution_count": 121,
   "id": "a5321420",
   "metadata": {},
   "outputs": [
    {
     "data": {
      "text/plain": [
       "['T-shirt/top',\n",
       " 'Trouser',\n",
       " 'Pullover',\n",
       " 'Dress',\n",
       " 'Coat',\n",
       " 'Sandal',\n",
       " 'Shirt',\n",
       " 'Sneaker',\n",
       " 'Bag',\n",
       " 'Ankle boot']"
      ]
     },
     "execution_count": 121,
     "metadata": {},
     "output_type": "execute_result"
    }
   ],
   "source": [
    "class_names = train_data.classes\n",
    "class_names"
   ]
  },
  {
   "cell_type": "markdown",
   "id": "ac602301",
   "metadata": {},
   "source": [
    "#### Inspect the first index of our train_data"
   ]
  },
  {
   "cell_type": "markdown",
   "id": "aa6e6e1b",
   "metadata": {},
   "source": [
    "`Shape`"
   ]
  },
  {
   "cell_type": "code",
   "execution_count": 122,
   "id": "545024a4",
   "metadata": {},
   "outputs": [
    {
     "name": "stdout",
     "output_type": "stream",
     "text": [
      "torch.Size([1, 28, 28])\n"
     ]
    },
    {
     "data": {
      "text/plain": [
       "9"
      ]
     },
     "execution_count": 122,
     "metadata": {},
     "output_type": "execute_result"
    }
   ],
   "source": [
    "image, label = train_data[0] # first index\n",
    "print(image.shape) # (NCHW format) batchsize, channel, height, width\n",
    "label"
   ]
  },
  {
   "cell_type": "markdown",
   "id": "7b9a072e",
   "metadata": {},
   "source": [
    "`Note:`\n",
    " - The torch vision accepted format is:\n",
    "1. NCHW (batchsize, channel, height, width)\n",
    "2. NHWC (batchsize, height, width, channel)\n",
    "\n",
    "- In matplotlib the accepted format is in 2 dimension data, we need to squeeze the 'image' to remove the upper dimension"
   ]
  },
  {
   "cell_type": "code",
   "execution_count": 123,
   "id": "c0350c6f",
   "metadata": {},
   "outputs": [
    {
     "name": "stdout",
     "output_type": "stream",
     "text": [
      "The shape in 3d (torchvision format): torch.Size([1, 28, 28])\n",
      "The shape required for matplotlib: torch.Size([28, 28]) \n"
     ]
    }
   ],
   "source": [
    "print(f'The shape in 3d (torchvision format): {image.shape}') # 3 dimension\n",
    "print(f'The shape required for matplotlib: {image.squeeze().shape} ') # 2D for visualizing in matplotlib"
   ]
  },
  {
   "cell_type": "markdown",
   "id": "de090cae",
   "metadata": {},
   "source": [
    "`Visualize the first index`"
   ]
  },
  {
   "cell_type": "code",
   "execution_count": 124,
   "id": "a6bbbdb3",
   "metadata": {},
   "outputs": [
    {
     "name": "stdout",
     "output_type": "stream",
     "text": [
      "Image shape: torch.Size([1, 28, 28])\n"
     ]
    },
    {
     "data": {
      "text/plain": [
       "Text(0.5, 1.0, 'Ankle boot')"
      ]
     },
     "execution_count": 124,
     "metadata": {},
     "output_type": "execute_result"
    },
    {
     "data": {
      "image/png": "[encoded data removed]",
      "text/plain": [
       "<Figure size 640x480 with 1 Axes>"
      ]
     },
     "metadata": {},
     "output_type": "display_data"
    }
   ],
   "source": [
    "import matplotlib.pyplot as plt\n",
    "\n",
    "print(f'Image shape: {image.shape}')\n",
    "plt.imshow(image.squeeze(), # remove 1 dimension \n",
    "           cmap = 'gray')\n",
    "plt.title(class_names[label])"
   ]
  },
  {
   "cell_type": "markdown",
   "id": "c5a38b14",
   "metadata": {},
   "source": [
    "### Plot more images at random"
   ]
  },
  {
   "cell_type": "code",
   "execution_count": 125,
   "id": "130f8b66",
   "metadata": {
    "code_folding": [
     0
    ]
   },
   "outputs": [],
   "source": [
    "# torch.manual_seed(42) # turn on for same results\n",
    "# plotting 16 images\n",
    "# fig = plt.figure(figsize=(9,9))\n",
    "# rows ,cols = 4,4\n",
    "\n",
    "# for i in range(1, rows*cols+1):\n",
    "#     random_idx = torch.randint(0, len(train_data), size=[1]).item()\n",
    "#     rand_img, rand_label = train_data[random_idx]\n",
    "#     fig.add_subplot(rows, cols, i)\n",
    "#     plt.imshow(rand_img.squeeze(), cmap='gray')\n",
    "#     plt.title(class_names[rand_label])\n",
    "#     plt.axis(False);             "
   ]
  },
  {
   "cell_type": "markdown",
   "id": "1c706bf9",
   "metadata": {},
   "source": [
    "## DataLoader\n",
    "In PyTorch, a data loader is an iterator that provides an efficient way to load and iterate over a dataset during training or evaluation. `It allows you to conveniently divide your dataset into batches`, shuffle the data, and load the data in parallel using multiple workers.\n",
    "\n",
    "Documentation link: https://pytorch.org/docs/stable/data.html"
   ]
  },
  {
   "cell_type": "markdown",
   "id": "cdea63f3",
   "metadata": {},
   "source": [
    "`Common DataLoader Parameters:`\n",
    "\n",
    "- `datasets:` dataset from which to load the data\n",
    "- `batch_size:` how many samples per batch to load (for better hardware performance)\n",
    "- `shuffle:` set to True to have the data reshuffled at every epoch (default: False)."
   ]
  },
  {
   "cell_type": "markdown",
   "id": "37a663ca",
   "metadata": {},
   "source": [
    "`Turn data into batches`"
   ]
  },
  {
   "cell_type": "code",
   "execution_count": 126,
   "id": "5c7e6ee5",
   "metadata": {},
   "outputs": [
    {
     "data": {
      "text/plain": [
       "(<torch.utils.data.dataloader.DataLoader at 0x272c44d98e0>,\n",
       " <torch.utils.data.dataloader.DataLoader at 0x272c44d9a30>)"
      ]
     },
     "execution_count": 126,
     "metadata": {},
     "output_type": "execute_result"
    }
   ],
   "source": [
    "from torch.utils.data import DataLoader\n",
    "\n",
    "# Segregate the `train_data` into batches\n",
    "# Set up the HYPERPARAMETER (batch_size)\n",
    "BATCH_SIZE = 32\n",
    "\n",
    "# Train data\n",
    "train_dataloader = DataLoader(\n",
    "    dataset= train_data,\n",
    "    batch_size=BATCH_SIZE,\n",
    "    shuffle=True # remove order\n",
    ")\n",
    "\n",
    "# Test data\n",
    "test_dataloader = DataLoader(\n",
    "    dataset= test_data,\n",
    "    batch_size=BATCH_SIZE,\n",
    "    shuffle=False # don't remove test order\n",
    ")\n",
    "\n",
    "train_dataloader, test_dataloader"
   ]
  },
  {
   "cell_type": "code",
   "execution_count": 127,
   "id": "e84b6dae",
   "metadata": {},
   "outputs": [
    {
     "name": "stdout",
     "output_type": "stream",
     "text": [
      "Lenght of train_dataloader: 1875 batches of:32\n",
      "Lenght of test_dataloader: 313 batches of:32\n"
     ]
    }
   ],
   "source": [
    "# print(f'DataLoaders: {train_dataloader, test_dataloader}')\n",
    "print(f'Lenght of train_dataloader: {len(train_dataloader)} batches of:{BATCH_SIZE}')\n",
    "print(f'Lenght of test_dataloader: {len(test_dataloader)} batches of:{BATCH_SIZE}')"
   ]
  },
  {
   "cell_type": "markdown",
   "id": "15762191",
   "metadata": {},
   "source": [
    "- train_dataloader contains 1875 batches of 32 samples/features per batch\n",
    "- test_dataloader contains 131 batches of 32 labels per batch"
   ]
  },
  {
   "cell_type": "markdown",
   "id": "15044148",
   "metadata": {},
   "source": [
    "#### Inpect the first batch"
   ]
  },
  {
   "cell_type": "code",
   "execution_count": 128,
   "id": "c64c4631",
   "metadata": {},
   "outputs": [
    {
     "data": {
      "text/plain": [
       "(torch.Size([32, 1, 28, 28]), torch.Size([32]))"
      ]
     },
     "execution_count": 128,
     "metadata": {},
     "output_type": "execute_result"
    }
   ],
   "source": [
    "# Inspect the shape of certain batch\n",
    "train_features_batch, train_labels_batch = next(iter(train_dataloader))\n",
    "train_features_batch.shape,  train_labels_batch.shape"
   ]
  },
  {
   "cell_type": "markdown",
   "id": "49243c9b",
   "metadata": {},
   "source": [
    " - iter(): It enables iterating over the batches of data in the data loader.\n",
    "\n",
    "- next(): The next() function is used to retrieve the next item from the iterator. In this case, it retrieves the next batch of data from the data loader.\n",
    "\n",
    "For example, if you have a data loader that loads images and labels for a classification task, executing next(iter(data_loader)) `will provide you with a batch of images and their corresponding labels.`"
   ]
  },
  {
   "cell_type": "code",
   "execution_count": 129,
   "id": "06b25047",
   "metadata": {},
   "outputs": [
    {
     "name": "stdout",
     "output_type": "stream",
     "text": [
      "torch.Size([32, 1, 28, 28])\n",
      "torch.Size([1, 28, 28])\n"
     ]
    }
   ],
   "source": [
    "# verify\n",
    "print(train_features_batch.shape)\n",
    "print(train_features_batch[31].shape)"
   ]
  },
  {
   "cell_type": "markdown",
   "id": "31dc6123",
   "metadata": {},
   "source": [
    "This shows that train_features_batch is a single batch out of 1875 batches. This batch contains 32 samples"
   ]
  },
  {
   "cell_type": "markdown",
   "id": "3b153473",
   "metadata": {},
   "source": [
    "#### Visualize random sample from a batch"
   ]
  },
  {
   "cell_type": "code",
   "execution_count": 130,
   "id": "fcff84ea",
   "metadata": {
    "code_folding": [
     0
    ]
   },
   "outputs": [],
   "source": [
    "# torch.manual_seed(42)\n",
    "# retreive one random sample \n",
    "# random_idx = torch.randint(0, len(train_features_batch), size=[1]).item()\n",
    "\n",
    "# img, label = train_features_batch[random_idx], train_labels_batch[random_idx]\n",
    "# plt.imshow(img.squeeze(), cmap='gray')\n",
    "# plt.title(class_names[label])\n",
    "# plt.axis(False)\n",
    "# print(f'Image size: {img.shape}')\n",
    "# print(f'Label: {label}')"
   ]
  },
  {
   "cell_type": "markdown",
   "id": "26e2f5a8",
   "metadata": {},
   "source": [
    "- The size=[1] argument specifies that we want a tensor of size 1, meaning a single random index.\n",
    "\n",
    "- .item(): The .item() method is used to extract the single value from the random index tensor. Since we specified size=[1], the tensor has a single element. Calling .item() on that tensor returns the value as a Python scalar (integer in this case)."
   ]
  },
  {
   "cell_type": "markdown",
   "id": "56afb5c9",
   "metadata": {},
   "source": [
    "### Flatten()\n",
    "Before we proceed building a model we need to understand that we neeed to reshape our train features batches into a flatten shape.\n",
    "\n",
    "Our model only accept flatten shape.\n",
    "link: https://pytorch.org/docs/stable/generated/torch.nn.Flatten.html"
   ]
  },
  {
   "cell_type": "markdown",
   "id": "2c582e1c",
   "metadata": {},
   "source": [
    "`Example Demonstration`"
   ]
  },
  {
   "cell_type": "code",
   "execution_count": 131,
   "id": "9f83d496",
   "metadata": {},
   "outputs": [
    {
     "name": "stdout",
     "output_type": "stream",
     "text": [
      "shape before flatten: torch.Size([1, 28, 28])\n",
      "shape after flatten: torch.Size([1, 784])\n"
     ]
    }
   ],
   "source": [
    "from torch import nn\n",
    "flatten_model = nn.Flatten()\n",
    "\n",
    "train_features_batch_flat =train_features_batch[0]\n",
    "print(f'shape before flatten: {train_features_batch_flat.shape}')\n",
    "output = flatten_model(train_features_batch_flat) # NHW format -> N H*W\n",
    "print(f'shape after flatten: {output.shape}')"
   ]
  },
  {
   "cell_type": "markdown",
   "id": "d1181b9a",
   "metadata": {},
   "source": [
    "---"
   ]
  },
  {
   "cell_type": "markdown",
   "id": "57375225",
   "metadata": {},
   "source": [
    "# Build a baseline model"
   ]
  },
  {
   "cell_type": "code",
   "execution_count": 132,
   "id": "84c44ae9",
   "metadata": {},
   "outputs": [],
   "source": [
    "from torch import nn\n",
    "\n",
    "class FashionMNIST_modelV0(nn.Module):\n",
    "    def __init__(self,\n",
    "                 input_shape: int,\n",
    "                 hidden_units: int,\n",
    "                 output_shape: int):\n",
    "        \n",
    "        super().__init__()\n",
    "        self.layer_stack = nn.Sequential(\n",
    "            nn.Flatten(), # flatten our data\n",
    "            nn.Linear(in_features=input_shape, out_features=hidden_units),\n",
    "            nn.Linear(in_features=hidden_units, out_features=output_shape)\n",
    "        )\n",
    "        \n",
    "    # Forward pass\n",
    "    def forward(self, x):\n",
    "        return self.layer_stack(x)"
   ]
  },
  {
   "cell_type": "markdown",
   "id": "f4bab043",
   "metadata": {},
   "source": [
    "`Create a model instance/object`"
   ]
  },
  {
   "cell_type": "code",
   "execution_count": 133,
   "id": "107796f9",
   "metadata": {},
   "outputs": [
    {
     "data": {
      "text/plain": [
       "FashionMNIST_modelV0(\n",
       "  (layer_stack): Sequential(\n",
       "    (0): Flatten(start_dim=1, end_dim=-1)\n",
       "    (1): Linear(in_features=784, out_features=10, bias=True)\n",
       "    (2): Linear(in_features=10, out_features=10, bias=True)\n",
       "  )\n",
       ")"
      ]
     },
     "execution_count": 133,
     "metadata": {},
     "output_type": "execute_result"
    }
   ],
   "source": [
    "torch.manual_seed(42)\n",
    "\n",
    "#setup model with input paramaters\n",
    "model_0 = FashionMNIST_modelV0(input_shape=28*28,\n",
    "                               hidden_units=10,\n",
    "                               output_shape=len(train_data.classes)\n",
    "                              )\n",
    "model_0"
   ]
  },
  {
   "cell_type": "markdown",
   "id": "5b068a33",
   "metadata": {},
   "source": [
    "### Initial Check\n",
    "This is to verify that our model_0 are working properly.\n",
    "\n",
    "- Create a dummy variable shape in NCHW format(using torch random).\n",
    "- Pass the dummy in our model\n",
    "- Our model will perform the flatten and necesary computation\n",
    "- Our model will result a 10 class showing each classes probability (logits form)\n",
    "- The one with the highest probability is the predicted class of the dummy variable"
   ]
  },
  {
   "cell_type": "code",
   "execution_count": 134,
   "id": "015e2406",
   "metadata": {},
   "outputs": [
    {
     "data": {
      "text/plain": [
       "tensor([[-0.0315,  0.3171,  0.0531, -0.2525,  0.5959,  0.2112,  0.3233,  0.2694,\n",
       "         -0.1004,  0.0157]], grad_fn=<AddmmBackward0>)"
      ]
     },
     "execution_count": 134,
     "metadata": {},
     "output_type": "execute_result"
    }
   ],
   "source": [
    "dummy_x = torch.rand([1,1,28,28])\n",
    "model_0(dummy_x)"
   ]
  },
  {
   "cell_type": "markdown",
   "id": "5e0c8b3c",
   "metadata": {},
   "source": [
    "### Loss Fucntion and Optimizer"
   ]
  },
  {
   "cell_type": "code",
   "execution_count": 135,
   "id": "15559f8e",
   "metadata": {},
   "outputs": [],
   "source": [
    "loss_fn = nn.CrossEntropyLoss()\n",
    "optimizer = torch.optim.SGD(params=model_0.parameters(),\n",
    "                           lr=0.1)"
   ]
  },
  {
   "cell_type": "markdown",
   "id": "c785a5ea",
   "metadata": {},
   "source": [
    "### Accuracy Function\n",
    "\n",
    "We will use our helper function to import accuracy function.Alternatively we can use torch.metrics for accuracy.\n",
    "\n",
    "\n",
    "link: https://torchmetrics.readthedocs.io/en/stable/classification/accuracy.html"
   ]
  },
  {
   "cell_type": "code",
   "execution_count": 112,
   "id": "c7004ef2",
   "metadata": {},
   "outputs": [],
   "source": [
    "from helper_functions import accuracy_fn"
   ]
  },
  {
   "cell_type": "markdown",
   "id": "e6cf81d1",
   "metadata": {},
   "source": [
    "### Timer (optional)\n",
    "Show how fast our model in training phase."
   ]
  },
  {
   "cell_type": "code",
   "execution_count": 113,
   "id": "a51e6b14",
   "metadata": {},
   "outputs": [],
   "source": [
    "from timeit import default_timer as timer\n",
    "\n",
    "def print_train_time(start: float,\n",
    "                      end: float,\n",
    "                      device: torch.device=None):\n",
    "    \n",
    "    '''Prints difference between start and end time.'''\n",
    "    total_time = end - start\n",
    "    print(f'Train time on {device}: {total_time:.3f} seconds')"
   ]
  },
  {
   "cell_type": "markdown",
   "id": "7310a187",
   "metadata": {},
   "source": [
    "## Training loop\n",
    "- This will train the model in batches \n",
    "- Optimzer will update the models parameter(weight&bias) once per batch instead of per epoch."
   ]
  },
  {
   "cell_type": "markdown",
   "id": "95ddbee8",
   "metadata": {},
   "source": [
    "1. Loop through epochs\n",
    "2. Loop through training batches, perform training steps, calculate the train loss \"per batch\".\n",
    "3. Loop through testing batches, perform test steps, calculate the ttest loss \"per batch\".\n",
    "4. Prints out what's happening\n",
    "5. Time it all (optional)"
   ]
  },
  {
   "cell_type": "code",
   "execution_count": 114,
   "id": "21d2080b",
   "metadata": {},
   "outputs": [],
   "source": [
    "# for progress bar (optional)\n",
    "from tqdm.auto import tqdm"
   ]
  },
  {
   "cell_type": "markdown",
   "id": "ac757e88",
   "metadata": {},
   "source": [
    "### Brace your self this is a homongus code!! take a breather.. inhale.... exhale. ...  inhale... exhale..."
   ]
  },
  {
   "cell_type": "code",
   "execution_count": 31,
   "id": "512a9586",
   "metadata": {
    "code_folding": [
     0
    ]
   },
   "outputs": [
    {
     "data": {
      "application/vnd.jupyter.widget-view+json": {
       "model_id": "62f87490371342beb76dba4cd7f8531e",
       "version_major": 2,
       "version_minor": 0
      },
      "text/plain": [
       "  0%|          | 0/3 [00:00<?, ?it/s]"
      ]
     },
     "metadata": {},
     "output_type": "display_data"
    },
    {
     "name": "stdout",
     "output_type": "stream",
     "text": [
      "Epoch: 0\n",
      "------\n",
      "Looked at batch 0/60000 samples\n",
      "Looked at batch 12800/60000 samples\n",
      "Looked at batch 25600/60000 samples\n",
      "Looked at batch 38400/60000 samples\n",
      "Looked at batch 51200/60000 samples\n",
      "\n",
      "Train loss: 0.4041 | Tess loss: 0.4559, Test acc: 84.0555\n",
      "Epoch: 1\n",
      "------\n",
      "Looked at batch 0/60000 samples\n",
      "Looked at batch 12800/60000 samples\n",
      "Looked at batch 25600/60000 samples\n",
      "Looked at batch 38400/60000 samples\n",
      "Looked at batch 51200/60000 samples\n",
      "\n",
      "Train loss: 0.4039 | Tess loss: 0.4571, Test acc: 84.2951\n",
      "Epoch: 2\n",
      "------\n",
      "Looked at batch 0/60000 samples\n",
      "Looked at batch 12800/60000 samples\n",
      "Looked at batch 25600/60000 samples\n",
      "Looked at batch 38400/60000 samples\n",
      "Looked at batch 51200/60000 samples\n",
      "\n",
      "Train loss: 0.4018 | Tess loss: 0.4630, Test acc: 84.1554\n",
      "Train time on cpu: 35.983 seconds\n"
     ]
    }
   ],
   "source": [
    "# Phewww\n",
    "torch.manual_seed(42)\n",
    "train_time_start = timer()\n",
    "\n",
    "epochs = 3\n",
    "\n",
    "for epoch in tqdm(range(epochs)):\n",
    "    print(f'Epoch: {epoch}\\n------')\n",
    "    \n",
    "    ### TRAINING ####\n",
    "    # calculate training loss per batch\n",
    "    train_loss = 0\n",
    "    \n",
    "    # add a loop through training batches (nested loop)\n",
    "    for batch, (X,y) in enumerate(train_dataloader):\n",
    "        # turn into training mode here\n",
    "        model_0.train()\n",
    "        \n",
    "        # forward pass\n",
    "        y_pred = (model_0(X))\n",
    "        \n",
    "        # calculate the loss (per batch)\n",
    "        loss = loss_fn(y_pred, y)\n",
    "        train_loss += loss # accumulate the loss in train_loss\n",
    "        \n",
    "        # optimizer zero grad\n",
    "        optimizer.zero_grad()\n",
    "        \n",
    "        # loss backward\n",
    "        loss.backward()\n",
    "        \n",
    "        # optimizer step\n",
    "        optimizer.step()\n",
    "        \n",
    "        # print out what's happening\n",
    "        if batch % 400 == 0:\n",
    "            print(f'Looked at batch {batch * len(X)}/{len(train_dataloader.dataset)} samples')\n",
    "        \n",
    "        \n",
    "    # back to the first loop\n",
    "    train_loss /= len(train_dataloader) \n",
    "    \n",
    "    ### TESTING ####\n",
    "    test_loss, test_acc = 0,0\n",
    "    model_0.eval()\n",
    "    with torch.inference_mode():\n",
    "        for X_test, y_test in test_dataloader:\n",
    "            \n",
    "            # forward pass\n",
    "            test_pred = model_0(X_test)\n",
    "            \n",
    "            # calculate the loss (accumulatively)\n",
    "            test_loss += loss_fn(test_pred, y_test)\n",
    "#             test_loss += test_loss\n",
    "            \n",
    "            # accuracy\n",
    "            test_acc += accuracy_fn(y_test, \n",
    "                                    test_pred.argmax(dim=1)) # argmax our test_pred is in logits, we need to find the highest probability\n",
    "#             tess_acc += tess_acc\n",
    "            \n",
    "            \n",
    "        # calculate the test loss averge per batch\n",
    "        test_loss /= len(test_dataloader)\n",
    "        \n",
    "        # calculate the test acc average per batch\n",
    "        test_acc /= len(test_dataloader)\n",
    "    \n",
    "    # print out what's happening\n",
    "    print(f'\\nTrain loss: {train_loss:.4f} | Tess loss: {test_loss:.4f}, Test acc: {test_acc:.4f}')\n",
    "    \n",
    "# calculate training time\n",
    "train_time_end = timer()        \n",
    "total_train_time_model_0 = print_train_time(start= train_time_start,\n",
    "                                            end= train_time_end,\n",
    "                                            device= str(next(model_0.parameters()).device))"
   ]
  },
  {
   "cell_type": "markdown",
   "id": "f060eace",
   "metadata": {},
   "source": [
    "`Training code enterpretztion:`\n",
    "\n",
    "1. for batch, (X,y) in enumerate(train_dataloader)\n",
    "\n",
    " - for batch, (X, y): This line starts the for loop and defines two variables, batch and (X, y). The enumerate() function is used to iterate over the train_dataloader and return both the index (batch number) and the data (X and y) for each iteration.\n",
    "\n",
    " - in train_dataloader: This specifies the object over which the loop will iterate. In this case, it is the train_dataloader object, which is typically used to load batches of training data.\n",
    "\n",
    " - So, during each iteration of the loop, the batch variable will contain the index of the current batch, and (X, y) will contain the actual data from that batch. This structure allows you to access and process the data within the loop, performing training operations or any other desired actions on each batch of data."
   ]
  },
  {
   "cell_type": "code",
   "execution_count": 27,
   "id": "587a2171",
   "metadata": {},
   "outputs": [
    {
     "ename": "NameError",
     "evalue": "name 'd' is not defined",
     "output_type": "error",
     "traceback": [
      "\u001b[1;31m---------------------------------------------------------------------------\u001b[0m",
      "\u001b[1;31mNameError\u001b[0m                                 Traceback (most recent call last)",
      "Input \u001b[1;32mIn [27]\u001b[0m, in \u001b[0;36m<cell line: 1>\u001b[1;34m()\u001b[0m\n\u001b[1;32m----> 1\u001b[0m \u001b[43md\u001b[49m\n",
      "\u001b[1;31mNameError\u001b[0m: name 'd' is not defined"
     ]
    }
   ],
   "source": [
    "1d = 1 "
   ]
  },
  {
   "cell_type": "code",
   "execution_count": 25,
   "id": "f9bdde54",
   "metadata": {
    "code_folding": []
   },
   "outputs": [
    {
     "data": {
      "application/vnd.jupyter.widget-view+json": {
       "model_id": "a5d7bd1d69c441af8e4a3275b9a47b1e",
       "version_major": 2,
       "version_minor": 0
      },
      "text/plain": [
       "  0%|          | 0/3 [00:00<?, ?it/s]"
      ]
     },
     "metadata": {},
     "output_type": "display_data"
    },
    {
     "name": "stdout",
     "output_type": "stream",
     "text": [
      "Epoch: 0\n",
      "-------\n",
      "Looked at 0/60000 samples\n",
      "Looked at 12800/60000 samples\n",
      "Looked at 25600/60000 samples\n",
      "Looked at 38400/60000 samples\n",
      "Looked at 51200/60000 samples\n",
      "\n",
      "Train loss: 0.44395 | Test loss: 0.46506, Test acc: 83.65%\n",
      "\n",
      "Epoch: 1\n",
      "-------\n",
      "Looked at 0/60000 samples\n",
      "Looked at 12800/60000 samples\n",
      "Looked at 25600/60000 samples\n",
      "Looked at 38400/60000 samples\n",
      "Looked at 51200/60000 samples\n",
      "\n",
      "Train loss: 0.43662 | Test loss: 0.46453, Test acc: 83.89%\n",
      "\n",
      "Epoch: 2\n",
      "-------\n",
      "Looked at 0/60000 samples\n",
      "Looked at 12800/60000 samples\n",
      "Looked at 25600/60000 samples\n",
      "Looked at 38400/60000 samples\n",
      "Looked at 51200/60000 samples\n",
      "\n",
      "Train loss: 0.43045 | Test loss: 0.46594, Test acc: 83.93%\n",
      "\n",
      "Train time on cpu: 38.811 seconds\n"
     ]
    }
   ],
   "source": [
    "# Import tqdm for progress bar\n",
    "from tqdm.auto import tqdm\n",
    "\n",
    "# Set the seed and start the timer\n",
    "torch.manual_seed(42)\n",
    "train_time_start_on_cpu = timer()\n",
    "\n",
    "# Set the number of epochs (we'll keep this small for faster training times)\n",
    "epochs = 3\n",
    "\n",
    "# Create training and testing loop\n",
    "for epoch in tqdm(range(epochs)):\n",
    "    print(f\"Epoch: {epoch}\\n-------\")\n",
    "    ### Training\n",
    "    train_loss = 0\n",
    "    # Add a loop to loop through training batches\n",
    "    for batch, (X, y) in enumerate(train_dataloader):\n",
    "        model_0.train() \n",
    "        # 1. Forward pass\n",
    "        y_pred = model_0(X)\n",
    "\n",
    "        # 2. Calculate loss (per batch)\n",
    "        loss = loss_fn(y_pred, y)\n",
    "        train_loss += loss # accumulatively add up the loss per epoch \n",
    "\n",
    "        # 3. Optimizer zero grad\n",
    "        optimizer.zero_grad()\n",
    "\n",
    "        # 4. Loss backward\n",
    "        loss.backward()\n",
    "\n",
    "        # 5. Optimizer step\n",
    "        optimizer.step()\n",
    "\n",
    "        # Print out how many samples have been seen\n",
    "        if batch % 400 == 0:\n",
    "            print(f\"Looked at {batch * len(X)}/{len(train_dataloader.dataset)} samples\")\n",
    "\n",
    "    # Divide total train loss by length of train dataloader (average loss per batch per epoch)\n",
    "    train_loss /= len(train_dataloader)\n",
    "    \n",
    "    ### Testing\n",
    "    # Setup variables for accumulatively adding up loss and accuracy \n",
    "    test_loss, test_acc = 0, 0 \n",
    "    model_0.eval()\n",
    "    with torch.inference_mode():\n",
    "        for X, y in test_dataloader:\n",
    "            # 1. Forward pass\n",
    "            test_pred = model_0(X)\n",
    "           \n",
    "            # 2. Calculate loss (accumatively)\n",
    "            test_loss += loss_fn(test_pred, y) # accumulatively add up the loss per epoch\n",
    "\n",
    "            # 3. Calculate accuracy (preds need to be same as y_true)\n",
    "            test_acc += accuracy_fn(y_true=y, y_pred=test_pred.argmax(dim=1))\n",
    "        \n",
    "        # Calculations on test metrics need to happen inside torch.inference_mode()\n",
    "        # Divide total test loss by length of test dataloader (per batch)\n",
    "        test_loss /= len(test_dataloader)\n",
    "\n",
    "        # Divide total accuracy by length of test dataloader (per batch)\n",
    "        test_acc /= len(test_dataloader)\n",
    "\n",
    "    ## Print out what's happening\n",
    "    print(f\"\\nTrain loss: {train_loss:.5f} | Test loss: {test_loss:.5f}, Test acc: {test_acc:.2f}%\\n\")\n",
    "\n",
    "# Calculate training time      \n",
    "train_time_end_on_cpu = timer()\n",
    "total_train_time_model_0 = print_train_time(start=train_time_start_on_cpu, \n",
    "                                           end=train_time_end_on_cpu,\n",
    "                                           device=str(next(model_0.parameters()).device))\n"
   ]
  },
  {
   "cell_type": "code",
   "execution_count": 26,
   "id": "0ce70a1e",
   "metadata": {},
   "outputs": [
    {
     "data": {
      "application/vnd.jupyter.widget-view+json": {
       "model_id": "d5be32e856c047d98cfc41afee3f9294",
       "version_major": 2,
       "version_minor": 0
      },
      "text/plain": [
       "  0%|          | 0/3 [00:00<?, ?it/s]"
      ]
     },
     "metadata": {},
     "output_type": "display_data"
    },
    {
     "name": "stdout",
     "output_type": "stream",
     "text": [
      "Epoch: 0\n",
      "------\n",
      "Looked at batch 0/60000 samples\n",
      "Looked at batch 12800/60000 samples\n",
      "Looked at batch 25600/60000 samples\n",
      "Looked at batch 38400/60000 samples\n",
      "Looked at batch 51200/60000 samples\n",
      "\n",
      "Train loss: 0.4265 | Tess loss: 0.4574, Test acc: 84.0056\n",
      "Epoch: 1\n",
      "------\n",
      "Looked at batch 0/60000 samples\n",
      "Looked at batch 12800/60000 samples\n",
      "Looked at batch 25600/60000 samples\n",
      "Looked at batch 38400/60000 samples\n",
      "Looked at batch 51200/60000 samples\n",
      "\n",
      "Train loss: 0.4234 | Tess loss: 0.4596, Test acc: 84.1953\n",
      "Epoch: 2\n",
      "------\n",
      "Looked at batch 0/60000 samples\n",
      "Looked at batch 12800/60000 samples\n",
      "Looked at batch 25600/60000 samples\n",
      "Looked at batch 38400/60000 samples\n",
      "Looked at batch 51200/60000 samples\n",
      "\n",
      "Train loss: 0.4196 | Tess loss: 0.4626, Test acc: 83.9856\n",
      "Train time on cpu: 37.574 seconds\n"
     ]
    }
   ],
   "source": [
    "torch.manual_seed(42)\n",
    "train_time_start = timer()\n",
    "\n",
    "epochs = 3\n",
    "\n",
    "for epoch in tqdm(range(epochs)):\n",
    "    print(f'Epoch: {epoch}\\n------')\n",
    "    \n",
    "    ### TRAINING ####\n",
    "    train_loss = 0\n",
    "    \n",
    "    for batch, (X,y) in enumerate(train_dataloader):\n",
    "        model_0.train()\n",
    "        \n",
    "        y_pred = (model_0(X))\n",
    "        \n",
    "        loss = loss_fn(y_pred, y)\n",
    "        train_loss += loss\n",
    "        \n",
    "        optimizer.zero_grad()\n",
    "        \n",
    "        loss.backward()\n",
    "        \n",
    "        optimizer.step()\n",
    "        \n",
    "        if batch % 400 == 0:\n",
    "            print(f'Looked at batch {batch * len(X)}/{len(train_dataloader.dataset)} samples')\n",
    "        \n",
    "        \n",
    "    train_loss /= len(train_dataloader) \n",
    "    \n",
    "    ### TESTING ####\n",
    "    tess_loss, tess_acc = 0,0\n",
    "    model_0.eval()\n",
    "    with torch.inference_mode():\n",
    "        for X_test, y_test in test_dataloader:\n",
    "            \n",
    "            test_pred = model_0(X_test)\n",
    "            \n",
    "            test_loss = loss_fn(test_pred, y_test)  # Highlighted: Initialize test_loss inside the loop\n",
    "            tess_loss += test_loss\n",
    "            \n",
    "            test_acc = accuracy_fn(y_test, test_pred.argmax(dim=1))  # Highlighted: Initialize test_acc inside the loop\n",
    "            tess_acc += test_acc\n",
    "        \n",
    "        tess_loss /= len(test_dataloader)\n",
    "        \n",
    "        tess_acc /= len(test_dataloader)\n",
    "    \n",
    "    print(f'\\nTrain loss: {train_loss:.4f} | Tess loss: {tess_loss:.4f}, Test acc: {tess_acc:.4f}')\n",
    "    \n",
    "# calculate training time\n",
    "train_time_end = timer()        \n",
    "total_train_time_model_0 = print_train_time(start= train_time_start,\n",
    "                                            end= train_time_end,\n",
    "                                            device= str(next(model_0.parameters()).device))\n"
   ]
  },
  {
   "cell_type": "code",
   "execution_count": null,
   "id": "4c6c47a5",
   "metadata": {},
   "outputs": [],
   "source": []
  },
  {
   "cell_type": "code",
   "execution_count": null,
   "id": "dd617d88",
   "metadata": {},
   "outputs": [],
   "source": []
  },
  {
   "cell_type": "code",
   "execution_count": null,
   "id": "7d4f0143",
   "metadata": {},
   "outputs": [],
   "source": []
  },
  {
   "cell_type": "code",
   "execution_count": null,
   "id": "21b7d22a",
   "metadata": {},
   "outputs": [],
   "source": []
  },
  {
   "cell_type": "code",
   "execution_count": null,
   "id": "102849bf",
   "metadata": {},
   "outputs": [],
   "source": []
  },
  {
   "cell_type": "code",
   "execution_count": null,
   "id": "64498383",
   "metadata": {},
   "outputs": [],
   "source": []
  },
  {
   "cell_type": "code",
   "execution_count": null,
   "id": "8fa06e0e",
   "metadata": {},
   "outputs": [],
   "source": []
  },
  {
   "cell_type": "code",
   "execution_count": null,
   "id": "7644e39d",
   "metadata": {},
   "outputs": [],
   "source": []
  },
  {
   "cell_type": "code",
   "execution_count": null,
   "id": "97c0f55c",
   "metadata": {},
   "outputs": [],
   "source": []
  }
 ],
 "metadata": {
  "celltoolbar": "Raw Cell Format",
  "kernelspec": {
   "display_name": "Python 3 (ipykernel)",
   "language": "python",
   "name": "python3"
  },
  "language_info": {
   "codemirror_mode": {
    "name": "ipython",
    "version": 3
   },
   "file_extension": ".py",
   "mimetype": "text/x-python",
   "name": "python",
   "nbconvert_exporter": "python",
   "pygments_lexer": "ipython3",
   "version": "3.8.13"
  }
 },
 "nbformat": 4,
 "nbformat_minor": 5
}
